{
 "cells": [
  {
   "cell_type": "markdown",
   "id": "cd7b8cac",
   "metadata": {},
   "source": [
    "#  COGS18 Projects Analysis: Introduction to Python Students Demonstrate Multiple Paths to Successful Final Projects"
   ]
  },
  {
   "cell_type": "markdown",
   "id": "0d7765f1",
   "metadata": {},
   "source": [
    "# Table of Contents <a class=\"anchor\" id=\"Top\"></a>"
   ]
  },
  {
   "cell_type": "markdown",
   "id": "904e4006",
   "metadata": {},
   "source": [
    "* [Overview](#Overview)\n",
    "    * [Background](#Background)\n",
    "* [Datasets](#Datasets)\n",
    "    * [COGS18 pre-course surveys data](#Dataset1)\n",
    "    * [Final projects data](#Dataset2)\n",
    "* [Research Questions](#Research_Questions)\n",
    "    * [Hypotheses](#Hypotheses)\n",
    "* [Setup](#Setup)\n",
    "* [Data Cleaning and Wrangling](#Data_Cleaning_and_Wrangling)\n",
    "    * [Removing redundant columns](#Removing_redundant_columns)\n",
    "    * [Null values](#Null_values)\n",
    "    * [Abnormal values](#Abnormal_values)\n",
    "    * [Programming experience](#Programming_experience)\n",
    "    * [Imports](#Imports)\n",
    "* [Exploratory Data Analysis](#Exploratory_Data_Analysis)\n",
    "    * [Programming background](#Programming_background)\n",
    "    * [Pre-skills](#Pre-skills)\n",
    "    * [Length](#Length)\n",
    "    * [Code documentation](#Code_documentation)\n",
    "    * [Imports](#Imports)\n",
    "    * [Complexity](#Complexity)\n",
    "    * [Tests](#Tests)\n",
    "    * [Instructors](#Instructors)\n",
    "* [Analysis](#Analysis)\n",
    "    * [Preparing the dataframe](#Preparing_the_dataframe)\n",
    "    * [Decision tree](#Decision_tree)\n",
    "    * [Random forest](#Random_forest)\n",
    "* [Conclusion](#Conclusion)"
   ]
  },
  {
   "cell_type": "markdown",
   "id": "926014a6",
   "metadata": {},
   "source": [
    "# Overview <a class=\"anchor\" id=\"Overview\"></a>"
   ]
  },
  {
   "cell_type": "markdown",
   "id": "f2aced3e",
   "metadata": {},
   "source": [
    "Programming is a highly demanded skill in both academia and industry. Considering the fact that most students are first introduced to programming in college, it is reasonable to say that early-stage computer science education plays a big role in their future career/research. COGS 18 is one of the most popular introductory level programming courses at UCSD and is taken by more than 1,000 undergraduate students each academic year. Logistically, the course consists of assignments, labs, and a final project to assess students' learning outcomes. Among these tasks, the final project is reflective of a student's ability to learn, design, and implement a programming project independently. For students enrolled in this course or who plan to enroll, many may not be sure about what's a good final project or if they are capable of doing well in the final project. So in this COGS199 research project, I will quantitatively analyze COGS18 final projects from several past quarters to try to guide future students and future iterations of the course."
   ]
  },
  {
   "cell_type": "markdown",
   "id": "fa5b7215",
   "metadata": {},
   "source": [
    "### Background <a class=\"anchor\" id=\"Background\"></a>"
   ]
  },
  {
   "cell_type": "markdown",
   "id": "5d0ade8f",
   "metadata": {},
   "source": [
    "In Bryant, Sutner, and Stehlik's _Introductory Computer Science Education at Carnegie Mellon University: A Deans’ Perspective_, they indicated a significant purpose of an introductory programming course should be \"promot(ing) the principles of computational thinking, for both majors and nonmajors\" (2010). COGS18 is exactly the course that plays such role here at UCSD. Helping students to create successful COGS18 final projects would be part of the effort of promoting these principles and the fundamental goal of this project.\n",
    "\n",
    "Source: http://www.cse.chalmers.se/edu/year/2019/course/TDA384_LP3/files/reading/CMU-CS-curriculum-2011.pdf"
   ]
  },
  {
   "cell_type": "markdown",
   "id": "37affaa3",
   "metadata": {},
   "source": [
    "[Jump Back to Table of Contents](#Top)"
   ]
  },
  {
   "cell_type": "markdown",
   "id": "7bf12b17",
   "metadata": {},
   "source": [
    "# Datasets <a class=\"anchor\" id=\"Datasets\"></a>"
   ]
  },
  {
   "cell_type": "markdown",
   "id": "823902d4",
   "metadata": {},
   "source": [
    "### COGS18 pre-course surveys data <a class=\"anchor\" id=\"Dataset1\"></a>"
   ]
  },
  {
   "cell_type": "markdown",
   "id": "3e281f86",
   "metadata": {},
   "source": [
    "Data in this dataset were collected from COGS18's pre-course surveys. The surveys were volunteerily completed by students enrolled in this course on the first week of instruction. Started in the winter 2020 quarter, students had the choice between a final project and final exam as the final assignment of this course. Data points in this dataset represents students who chose to complete the final projects. Here is a list of descriptions of relevant features within this dataset:\n",
    "- project_name - students' projects' IDs\n",
    "- programming_background - programming language(s) students used prior to this course, self-reported in the surveys\n",
    "- pre_skills - programming skills that students acquired before entering this course, self-reported in the surveys. The options are:\n",
    "    - \"Describe and implement best practices in Python, keeping in mind that programming is done by and for humans\"\n",
    "    - \"Program at an introductory level in the Python programming language\"\n",
    "    - \"Solve basic problems using programmatic solutions\"\n",
    "    - \"Write and debug small Python programs\"\n",
    "    - \"Read basic Python programs, recognizing the structures they use and be able to explain how they work\"\n",
    "    - \"Execute Python programs on your local computer, using notebooks and the command line\"\n",
    "- Total Score - students' score for the final project\n",
    "- quarter - the quarter which the course was taught\n",
    "- instructor - the instructor of the course in the specific quarter/section"
   ]
  },
  {
   "cell_type": "markdown",
   "id": "905d04e6",
   "metadata": {},
   "source": [
    "[Jump Back to Table of Contents](#Top)"
   ]
  },
  {
   "cell_type": "markdown",
   "id": "06265abd",
   "metadata": {},
   "source": [
    "### Final projects data <a class=\"anchor\" id=\"Dataset2\"></a>"
   ]
  },
  {
   "cell_type": "markdown",
   "id": "181ea327",
   "metadata": {},
   "source": [
    "Data in this dataset were extracted from students' COGS18 final projects. The specifics of how the data were extracted can be found in /00_feature_engineering/scripts/feature_engineering.ipynb. Here is a list of descriptions of relevant features within this dataset:\n",
    "- lines_code - number of lines of code in students' projects\n",
    "- num_imports - number of imports in students' projects\n",
    "- imports - lists of all the imports in students' projects\n",
    "- lines_comments - number of lines of comments in students' projects\n",
    "- num_functions - number of functions in students' projects\n",
    "- num_classes - number of classes in students' projects\n",
    "- num_tests - number of test functions in students' projects\n",
    "- num_logic - number of in/else statements in students' projects\n",
    "- num_loops - number of for/while loops in studens' projects"
   ]
  },
  {
   "cell_type": "markdown",
   "id": "6417567a",
   "metadata": {},
   "source": [
    "[Jump Back to Table of Contents](#Top)"
   ]
  },
  {
   "cell_type": "markdown",
   "id": "60a0d25b",
   "metadata": {},
   "source": [
    "# Research Questions <a class=\"anchor\" id=\"Research_Questions\"></a>"
   ]
  },
  {
   "cell_type": "markdown",
   "id": "ce8aa05f",
   "metadata": {},
   "source": [
    "- How do a student's programming background and pre-skills affect their cogs18 final project's total score?\n",
    "- How do the packages and the number of packages a student imports in their cogs18 final project affect the total score?\n",
    "- How does the length (lines of code) of a student's cogs18 final project affect their total score?\n",
    "- How does a student's code documentation (lines of comments, total words of comments) in their cogs18 final project affect the total score?\n",
    "- How does the complexity (functions, classes, logics, loops) of a student's cogs18 final project affect the total score?\n",
    "- How does test cases a student write in their cogs18 final project affect the total score?"
   ]
  },
  {
   "cell_type": "markdown",
   "id": "8d036aec",
   "metadata": {},
   "source": [
    "### Hypotheses <a class=\"anchor\" id=\"Hypotheses\"></a>"
   ]
  },
  {
   "cell_type": "markdown",
   "id": "31ab2849",
   "metadata": {},
   "source": [
    "- Students with more programming background and pre-skills would perform better in the final project, since they are more familiar with the course materials.\n",
    "- The packages and number of packages students imports would not affect the total score, because it's not part of the grading rubric.\n",
    "- As long as the project meet all grading criteria, the length of the project should not affect a student's total score.\n",
    "- Students with more code documentation would perform better in the final project since it keeps their projects more organized.\n",
    "- Since it is an introductory course, the complexity of the project would not significantly affect the total score.\n",
    "- Since four minimum test cases are required, students with less than four test cases would receive a lower total score.\n"
   ]
  },
  {
   "cell_type": "markdown",
   "id": "f489c161",
   "metadata": {},
   "source": [
    "[Jump Back to Table of Contents](#Top)"
   ]
  },
  {
   "cell_type": "markdown",
   "id": "9575fe7e",
   "metadata": {},
   "source": [
    "# Setup <a class=\"anchor\" id=\"Setup\"></a>"
   ]
  },
  {
   "cell_type": "code",
   "execution_count": 1,
   "id": "d13b704c",
   "metadata": {},
   "outputs": [],
   "source": [
    "# general imports\n",
    "import pandas as pd\n",
    "import numpy as np\n",
    "import matplotlib.pyplot as plt\n",
    "import seaborn as sns\n",
    "\n",
    "# Machine learning\n",
    "from sklearn.tree import DecisionTreeClassifier\n",
    "from sklearn.ensemble import RandomForestClassifier\n",
    "from sklearn.model_selection import train_test_split\n",
    "from sklearn import tree"
   ]
  },
  {
   "cell_type": "code",
   "execution_count": 2,
   "id": "4dddff89",
   "metadata": {},
   "outputs": [],
   "source": [
    "# read in the dataset\n",
    "\n",
    "df = pd.read_csv(\"/Users/haoyangguo/Documents/GitHub/cogs18_projects/01_data_analysis/csv/cogs18_projects.csv\")"
   ]
  },
  {
   "cell_type": "code",
   "execution_count": 3,
   "id": "6ec49c15",
   "metadata": {},
   "outputs": [
    {
     "data": {
      "text/html": [
       "<div>\n",
       "<style scoped>\n",
       "    .dataframe tbody tr th:only-of-type {\n",
       "        vertical-align: middle;\n",
       "    }\n",
       "\n",
       "    .dataframe tbody tr th {\n",
       "        vertical-align: top;\n",
       "    }\n",
       "\n",
       "    .dataframe thead th {\n",
       "        text-align: right;\n",
       "    }\n",
       "</style>\n",
       "<table border=\"1\" class=\"dataframe\">\n",
       "  <thead>\n",
       "    <tr style=\"text-align: right;\">\n",
       "      <th></th>\n",
       "      <th>project_name</th>\n",
       "      <th>total_points</th>\n",
       "      <th>programming_background</th>\n",
       "      <th>pre_skills</th>\n",
       "      <th>Concept (Total)</th>\n",
       "      <th>File Structure (Total)</th>\n",
       "      <th>Project Description (Total)</th>\n",
       "      <th>Approach (Total)</th>\n",
       "      <th>Code (Total)</th>\n",
       "      <th>Style (Total)</th>\n",
       "      <th>...</th>\n",
       "      <th>imports</th>\n",
       "      <th>lines_comments</th>\n",
       "      <th>num_comments_words</th>\n",
       "      <th>num_functions</th>\n",
       "      <th>num_classes</th>\n",
       "      <th>num_tests</th>\n",
       "      <th>num_asserts</th>\n",
       "      <th>num_logic</th>\n",
       "      <th>num_loops</th>\n",
       "      <th>project_quarter</th>\n",
       "    </tr>\n",
       "  </thead>\n",
       "  <tbody>\n",
       "    <tr>\n",
       "      <th>0</th>\n",
       "      <td>WI21_B00_001</td>\n",
       "      <td>98.50</td>\n",
       "      <td>I've never programmed before!</td>\n",
       "      <td>None of these</td>\n",
       "      <td>5.0</td>\n",
       "      <td>4.5</td>\n",
       "      <td>10.0</td>\n",
       "      <td>20.0</td>\n",
       "      <td>28.0</td>\n",
       "      <td>10.0</td>\n",
       "      <td>...</td>\n",
       "      <td>[]</td>\n",
       "      <td>41</td>\n",
       "      <td>252</td>\n",
       "      <td>4</td>\n",
       "      <td>0</td>\n",
       "      <td>2</td>\n",
       "      <td>5</td>\n",
       "      <td>5</td>\n",
       "      <td>1</td>\n",
       "      <td>WI21</td>\n",
       "    </tr>\n",
       "    <tr>\n",
       "      <th>1</th>\n",
       "      <td>WI21_B00_002</td>\n",
       "      <td>99.53</td>\n",
       "      <td>I've never programmed before!</td>\n",
       "      <td>None of these</td>\n",
       "      <td>5.0</td>\n",
       "      <td>4.5</td>\n",
       "      <td>10.0</td>\n",
       "      <td>20.0</td>\n",
       "      <td>27.0</td>\n",
       "      <td>10.0</td>\n",
       "      <td>...</td>\n",
       "      <td>['sys', 'pandas', 'numpy', 'my_module.functions']</td>\n",
       "      <td>52</td>\n",
       "      <td>299</td>\n",
       "      <td>3</td>\n",
       "      <td>0</td>\n",
       "      <td>3</td>\n",
       "      <td>18</td>\n",
       "      <td>9</td>\n",
       "      <td>3</td>\n",
       "      <td>WI21</td>\n",
       "    </tr>\n",
       "    <tr>\n",
       "      <th>2</th>\n",
       "      <td>WI21_B00_003</td>\n",
       "      <td>92.97</td>\n",
       "      <td>I've never programmed before!</td>\n",
       "      <td>None of these</td>\n",
       "      <td>5.0</td>\n",
       "      <td>4.5</td>\n",
       "      <td>10.0</td>\n",
       "      <td>20.0</td>\n",
       "      <td>30.0</td>\n",
       "      <td>10.0</td>\n",
       "      <td>...</td>\n",
       "      <td>['datetime', 'numpy', 'pandas', 'matplotlib.py...</td>\n",
       "      <td>57</td>\n",
       "      <td>302</td>\n",
       "      <td>4</td>\n",
       "      <td>0</td>\n",
       "      <td>4</td>\n",
       "      <td>7</td>\n",
       "      <td>2</td>\n",
       "      <td>2</td>\n",
       "      <td>WI21</td>\n",
       "    </tr>\n",
       "    <tr>\n",
       "      <th>3</th>\n",
       "      <td>WI21_B00_004</td>\n",
       "      <td>94.69</td>\n",
       "      <td>Matlab</td>\n",
       "      <td>Read basic Python programs, recognizing the st...</td>\n",
       "      <td>5.0</td>\n",
       "      <td>5.0</td>\n",
       "      <td>0.0</td>\n",
       "      <td>18.0</td>\n",
       "      <td>30.0</td>\n",
       "      <td>10.0</td>\n",
       "      <td>...</td>\n",
       "      <td>['string']</td>\n",
       "      <td>71</td>\n",
       "      <td>298</td>\n",
       "      <td>8</td>\n",
       "      <td>0</td>\n",
       "      <td>3</td>\n",
       "      <td>9</td>\n",
       "      <td>12</td>\n",
       "      <td>5</td>\n",
       "      <td>WI21</td>\n",
       "    </tr>\n",
       "    <tr>\n",
       "      <th>4</th>\n",
       "      <td>WI21_B00_005</td>\n",
       "      <td>98.72</td>\n",
       "      <td>I've never programmed before!</td>\n",
       "      <td>None of these</td>\n",
       "      <td>5.0</td>\n",
       "      <td>4.5</td>\n",
       "      <td>10.0</td>\n",
       "      <td>20.0</td>\n",
       "      <td>27.0</td>\n",
       "      <td>10.0</td>\n",
       "      <td>...</td>\n",
       "      <td>['sys', 'my_module.functions']</td>\n",
       "      <td>18</td>\n",
       "      <td>167</td>\n",
       "      <td>4</td>\n",
       "      <td>1</td>\n",
       "      <td>3</td>\n",
       "      <td>12</td>\n",
       "      <td>1</td>\n",
       "      <td>0</td>\n",
       "      <td>WI21</td>\n",
       "    </tr>\n",
       "  </tbody>\n",
       "</table>\n",
       "<p>5 rows × 29 columns</p>\n",
       "</div>"
      ],
      "text/plain": [
       "   project_name  total_points         programming_background  \\\n",
       "0  WI21_B00_001         98.50  I've never programmed before!   \n",
       "1  WI21_B00_002         99.53  I've never programmed before!   \n",
       "2  WI21_B00_003         92.97  I've never programmed before!   \n",
       "3  WI21_B00_004         94.69                         Matlab   \n",
       "4  WI21_B00_005         98.72  I've never programmed before!   \n",
       "\n",
       "                                          pre_skills  Concept (Total)  \\\n",
       "0                                      None of these              5.0   \n",
       "1                                      None of these              5.0   \n",
       "2                                      None of these              5.0   \n",
       "3  Read basic Python programs, recognizing the st...              5.0   \n",
       "4                                      None of these              5.0   \n",
       "\n",
       "   File Structure (Total)  Project Description (Total)  Approach (Total)  \\\n",
       "0                     4.5                         10.0              20.0   \n",
       "1                     4.5                         10.0              20.0   \n",
       "2                     4.5                         10.0              20.0   \n",
       "3                     5.0                          0.0              18.0   \n",
       "4                     4.5                         10.0              20.0   \n",
       "\n",
       "   Code (Total)  Style (Total)  ...  \\\n",
       "0          28.0           10.0  ...   \n",
       "1          27.0           10.0  ...   \n",
       "2          30.0           10.0  ...   \n",
       "3          30.0           10.0  ...   \n",
       "4          27.0           10.0  ...   \n",
       "\n",
       "                                             imports  lines_comments  \\\n",
       "0                                                 []              41   \n",
       "1  ['sys', 'pandas', 'numpy', 'my_module.functions']              52   \n",
       "2  ['datetime', 'numpy', 'pandas', 'matplotlib.py...              57   \n",
       "3                                         ['string']              71   \n",
       "4                     ['sys', 'my_module.functions']              18   \n",
       "\n",
       "   num_comments_words  num_functions  num_classes num_tests num_asserts  \\\n",
       "0                 252              4            0         2           5   \n",
       "1                 299              3            0         3          18   \n",
       "2                 302              4            0         4           7   \n",
       "3                 298              8            0         3           9   \n",
       "4                 167              4            1         3          12   \n",
       "\n",
       "   num_logic  num_loops project_quarter  \n",
       "0          5          1            WI21  \n",
       "1          9          3            WI21  \n",
       "2          2          2            WI21  \n",
       "3         12          5            WI21  \n",
       "4          1          0            WI21  \n",
       "\n",
       "[5 rows x 29 columns]"
      ]
     },
     "execution_count": 3,
     "metadata": {},
     "output_type": "execute_result"
    }
   ],
   "source": [
    "df.head()"
   ]
  },
  {
   "cell_type": "markdown",
   "id": "a8a6d6a3",
   "metadata": {},
   "source": [
    "[Jump Back to Table of Contents](#Top)"
   ]
  },
  {
   "cell_type": "markdown",
   "id": "4e39e665",
   "metadata": {},
   "source": [
    "# Data Cleaning and Wrangling <a class=\"anchor\" id=\"Data_Cleaning_and_Wrangling\"></a>"
   ]
  },
  {
   "cell_type": "code",
   "execution_count": 4,
   "id": "8f910d4b",
   "metadata": {},
   "outputs": [
    {
     "data": {
      "text/plain": [
       "(142, 29)"
      ]
     },
     "execution_count": 4,
     "metadata": {},
     "output_type": "execute_result"
    }
   ],
   "source": [
    "df.shape"
   ]
  },
  {
   "cell_type": "markdown",
   "id": "76796ff2",
   "metadata": {},
   "source": [
    "### Removing redundant columns <a class=\"anchor\" id=\"Removing_redundant_columns\"></a>"
   ]
  },
  {
   "cell_type": "code",
   "execution_count": 5,
   "id": "dac30d58",
   "metadata": {},
   "outputs": [
    {
     "data": {
      "text/plain": [
       "Index(['project_name', 'total_points', 'programming_background', 'pre_skills',\n",
       "       'Concept (Total)', 'File Structure (Total)',\n",
       "       'Project Description (Total)', 'Approach (Total)', 'Code (Total)',\n",
       "       'Style (Total)', 'Documentation (Total)', 'Tests (Total)',\n",
       "       'Fudge Points', 'Extra Credit', 'Total Score', 'instructor', 'quarter',\n",
       "       'lines_code', 'num_imports', 'imports', 'lines_comments',\n",
       "       'num_comments_words', 'num_functions', 'num_classes', 'num_tests',\n",
       "       'num_asserts', 'num_logic', 'num_loops', 'project_quarter'],\n",
       "      dtype='object')"
      ]
     },
     "execution_count": 5,
     "metadata": {},
     "output_type": "execute_result"
    }
   ],
   "source": [
    "df.columns"
   ]
  },
  {
   "cell_type": "markdown",
   "id": "4024a38c",
   "metadata": {},
   "source": [
    "Since I'm focusing on the grades related to the final project, I will remove the total_point (overall grade) column"
   ]
  },
  {
   "cell_type": "code",
   "execution_count": 6,
   "id": "ccc35dc6",
   "metadata": {},
   "outputs": [],
   "source": [
    "df = df.drop(columns=[\"quarter\", \"total_points\", 'Concept (Total)', 'File Structure (Total)',\n",
    "      'Project Description (Total)', 'Approach (Total)', 'Code (Total)',\n",
    "       'Style (Total)', 'Documentation (Total)', 'Tests (Total)'])"
   ]
  },
  {
   "cell_type": "markdown",
   "id": "4b43d447",
   "metadata": {},
   "source": [
    "[Jump Back to Table of Contents](#Top)"
   ]
  },
  {
   "cell_type": "markdown",
   "id": "dd487de5",
   "metadata": {},
   "source": [
    "### Null values <a class=\"anchor\" id=\"Null_values\"></a>"
   ]
  },
  {
   "cell_type": "code",
   "execution_count": 7,
   "id": "7621afc7",
   "metadata": {
    "scrolled": false
   },
   "outputs": [
    {
     "name": "stdout",
     "output_type": "stream",
     "text": [
      "['programming_background', 'pre_skills', 'Fudge Points', 'Extra Credit', 'Total Score']\n",
      "project_name                0\n",
      "programming_background     12\n",
      "pre_skills                 12\n",
      "Fudge Points              142\n",
      "Extra Credit              142\n",
      "Total Score                 2\n",
      "instructor                  0\n",
      "lines_code                  0\n",
      "num_imports                 0\n",
      "imports                     0\n",
      "lines_comments              0\n",
      "num_comments_words          0\n",
      "num_functions               0\n",
      "num_classes                 0\n",
      "num_tests                   0\n",
      "num_asserts                 0\n",
      "num_logic                   0\n",
      "num_loops                   0\n",
      "project_quarter             0\n",
      "dtype: int64\n"
     ]
    }
   ],
   "source": [
    "# checking null values\n",
    "\n",
    "print(list(df.columns[df.isnull().any()]))\n",
    "print(df.isna().sum())"
   ]
  },
  {
   "cell_type": "markdown",
   "id": "a8e6246a",
   "metadata": {},
   "source": [
    "Fudge points and extra credit are already added to the total score, so I'll remove these two columns"
   ]
  },
  {
   "cell_type": "code",
   "execution_count": 8,
   "id": "62ca1fd3",
   "metadata": {},
   "outputs": [],
   "source": [
    "df = df.drop(columns=[\"Fudge Points\", \"Extra Credit\"])"
   ]
  },
  {
   "cell_type": "markdown",
   "id": "13b63fd8",
   "metadata": {},
   "source": [
    "The null values in the total score columns indicate that these students did the final exam instead of the final projects, so I will drop these rows"
   ]
  },
  {
   "cell_type": "code",
   "execution_count": 9,
   "id": "a83dfd7c",
   "metadata": {
    "scrolled": false
   },
   "outputs": [
    {
     "data": {
      "text/html": [
       "<div>\n",
       "<style scoped>\n",
       "    .dataframe tbody tr th:only-of-type {\n",
       "        vertical-align: middle;\n",
       "    }\n",
       "\n",
       "    .dataframe tbody tr th {\n",
       "        vertical-align: top;\n",
       "    }\n",
       "\n",
       "    .dataframe thead th {\n",
       "        text-align: right;\n",
       "    }\n",
       "</style>\n",
       "<table border=\"1\" class=\"dataframe\">\n",
       "  <thead>\n",
       "    <tr style=\"text-align: right;\">\n",
       "      <th></th>\n",
       "      <th>project_name</th>\n",
       "      <th>programming_background</th>\n",
       "      <th>pre_skills</th>\n",
       "      <th>Total Score</th>\n",
       "      <th>instructor</th>\n",
       "      <th>lines_code</th>\n",
       "      <th>num_imports</th>\n",
       "      <th>imports</th>\n",
       "      <th>lines_comments</th>\n",
       "      <th>num_comments_words</th>\n",
       "      <th>num_functions</th>\n",
       "      <th>num_classes</th>\n",
       "      <th>num_tests</th>\n",
       "      <th>num_asserts</th>\n",
       "      <th>num_logic</th>\n",
       "      <th>num_loops</th>\n",
       "      <th>project_quarter</th>\n",
       "    </tr>\n",
       "  </thead>\n",
       "  <tbody>\n",
       "    <tr>\n",
       "      <th>9</th>\n",
       "      <td>WI21_B00_010</td>\n",
       "      <td>Javascript</td>\n",
       "      <td>None of these</td>\n",
       "      <td>NaN</td>\n",
       "      <td>Ellis</td>\n",
       "      <td>8</td>\n",
       "      <td>2</td>\n",
       "      <td>['sys', 'my_module.functions']</td>\n",
       "      <td>9</td>\n",
       "      <td>55</td>\n",
       "      <td>2</td>\n",
       "      <td>0</td>\n",
       "      <td>2</td>\n",
       "      <td>2</td>\n",
       "      <td>0</td>\n",
       "      <td>0</td>\n",
       "      <td>WI21</td>\n",
       "    </tr>\n",
       "    <tr>\n",
       "      <th>126</th>\n",
       "      <td>SP21_C00_079</td>\n",
       "      <td>I've never programmed before!</td>\n",
       "      <td>Program at an introductory level in the Python...</td>\n",
       "      <td>NaN</td>\n",
       "      <td>Bardolph</td>\n",
       "      <td>8</td>\n",
       "      <td>2</td>\n",
       "      <td>['sys', 'my_module.functions']</td>\n",
       "      <td>9</td>\n",
       "      <td>55</td>\n",
       "      <td>2</td>\n",
       "      <td>0</td>\n",
       "      <td>2</td>\n",
       "      <td>2</td>\n",
       "      <td>0</td>\n",
       "      <td>0</td>\n",
       "      <td>SP21</td>\n",
       "    </tr>\n",
       "  </tbody>\n",
       "</table>\n",
       "</div>"
      ],
      "text/plain": [
       "     project_name         programming_background  \\\n",
       "9    WI21_B00_010                     Javascript   \n",
       "126  SP21_C00_079  I've never programmed before!   \n",
       "\n",
       "                                            pre_skills  Total Score  \\\n",
       "9                                        None of these          NaN   \n",
       "126  Program at an introductory level in the Python...          NaN   \n",
       "\n",
       "    instructor  lines_code  num_imports                         imports  \\\n",
       "9        Ellis           8            2  ['sys', 'my_module.functions']   \n",
       "126   Bardolph           8            2  ['sys', 'my_module.functions']   \n",
       "\n",
       "     lines_comments  num_comments_words  num_functions  num_classes  \\\n",
       "9                 9                  55              2            0   \n",
       "126               9                  55              2            0   \n",
       "\n",
       "     num_tests  num_asserts  num_logic  num_loops project_quarter  \n",
       "9            2            2          0          0            WI21  \n",
       "126          2            2          0          0            SP21  "
      ]
     },
     "execution_count": 9,
     "metadata": {},
     "output_type": "execute_result"
    }
   ],
   "source": [
    "df[df[\"Total Score\"].isna()]"
   ]
  },
  {
   "cell_type": "code",
   "execution_count": 10,
   "id": "112cb06d",
   "metadata": {},
   "outputs": [],
   "source": [
    "df.dropna(subset=[\"Total Score\"], how='all', inplace=True)"
   ]
  },
  {
   "cell_type": "markdown",
   "id": "e9e9dca3",
   "metadata": {},
   "source": [
    "The null values in the programming_background and pre_skills columns indicate that the student didn't answer the related question in the survey. I will replace them with the default \"I've never programmed before!\" and \"None of these\" options."
   ]
  },
  {
   "cell_type": "code",
   "execution_count": 11,
   "id": "71d2d9c9",
   "metadata": {},
   "outputs": [],
   "source": [
    "df[\"programming_background\"] = df[\"programming_background\"].fillna(\"I've never programmed before!\")\n",
    "df[\"pre_skills\"] = df[\"pre_skills\"].fillna(\"None of these\")"
   ]
  },
  {
   "cell_type": "code",
   "execution_count": 12,
   "id": "cb7e6f15",
   "metadata": {},
   "outputs": [
    {
     "data": {
      "text/plain": [
       "0"
      ]
     },
     "execution_count": 12,
     "metadata": {},
     "output_type": "execute_result"
    }
   ],
   "source": [
    "df.isna().sum().sum()"
   ]
  },
  {
   "cell_type": "markdown",
   "id": "9b2c5665",
   "metadata": {},
   "source": [
    "There aren't any null values in this dataframe anymore. Next, I will move on to the abnormal values."
   ]
  },
  {
   "cell_type": "markdown",
   "id": "d2324b50",
   "metadata": {},
   "source": [
    "[Jump Back to Table of Contents](#Top)"
   ]
  },
  {
   "cell_type": "markdown",
   "id": "6ed7bd54",
   "metadata": {},
   "source": [
    "### Abnormal values <a class=\"anchor\" id=\"Abnormal_values\"></a>"
   ]
  },
  {
   "cell_type": "code",
   "execution_count": 13,
   "id": "203ac885",
   "metadata": {},
   "outputs": [
    {
     "data": {
      "text/html": [
       "<div>\n",
       "<style scoped>\n",
       "    .dataframe tbody tr th:only-of-type {\n",
       "        vertical-align: middle;\n",
       "    }\n",
       "\n",
       "    .dataframe tbody tr th {\n",
       "        vertical-align: top;\n",
       "    }\n",
       "\n",
       "    .dataframe thead th {\n",
       "        text-align: right;\n",
       "    }\n",
       "</style>\n",
       "<table border=\"1\" class=\"dataframe\">\n",
       "  <thead>\n",
       "    <tr style=\"text-align: right;\">\n",
       "      <th></th>\n",
       "      <th>project_name</th>\n",
       "      <th>programming_background</th>\n",
       "      <th>pre_skills</th>\n",
       "      <th>Total Score</th>\n",
       "      <th>instructor</th>\n",
       "      <th>lines_code</th>\n",
       "      <th>num_imports</th>\n",
       "      <th>imports</th>\n",
       "      <th>lines_comments</th>\n",
       "      <th>num_comments_words</th>\n",
       "      <th>num_functions</th>\n",
       "      <th>num_classes</th>\n",
       "      <th>num_tests</th>\n",
       "      <th>num_asserts</th>\n",
       "      <th>num_logic</th>\n",
       "      <th>num_loops</th>\n",
       "      <th>project_quarter</th>\n",
       "    </tr>\n",
       "  </thead>\n",
       "  <tbody>\n",
       "    <tr>\n",
       "      <th>26</th>\n",
       "      <td>SP21_B00_005</td>\n",
       "      <td>Java, Javascript</td>\n",
       "      <td>Program at an introductory level in the Python...</td>\n",
       "      <td>0.0</td>\n",
       "      <td>Ellis</td>\n",
       "      <td>96</td>\n",
       "      <td>2</td>\n",
       "      <td>['sys', 'my_module.functions']</td>\n",
       "      <td>9</td>\n",
       "      <td>55</td>\n",
       "      <td>16</td>\n",
       "      <td>2</td>\n",
       "      <td>2</td>\n",
       "      <td>2</td>\n",
       "      <td>7</td>\n",
       "      <td>9</td>\n",
       "      <td>SP21</td>\n",
       "    </tr>\n",
       "    <tr>\n",
       "      <th>63</th>\n",
       "      <td>SP21_C00_017</td>\n",
       "      <td>I've never programmed before!</td>\n",
       "      <td>None of these</td>\n",
       "      <td>0.0</td>\n",
       "      <td>Bardolph</td>\n",
       "      <td>73</td>\n",
       "      <td>2</td>\n",
       "      <td>['sys', 'my_module.functions']</td>\n",
       "      <td>18</td>\n",
       "      <td>351</td>\n",
       "      <td>4</td>\n",
       "      <td>0</td>\n",
       "      <td>4</td>\n",
       "      <td>13</td>\n",
       "      <td>2</td>\n",
       "      <td>4</td>\n",
       "      <td>SP21</td>\n",
       "    </tr>\n",
       "    <tr>\n",
       "      <th>81</th>\n",
       "      <td>SP21_C00_035</td>\n",
       "      <td>I've never programmed before!, Python</td>\n",
       "      <td>Write and debug small Python programs</td>\n",
       "      <td>0.0</td>\n",
       "      <td>Bardolph</td>\n",
       "      <td>8</td>\n",
       "      <td>2</td>\n",
       "      <td>['sys', 'my_module.functions']</td>\n",
       "      <td>9</td>\n",
       "      <td>55</td>\n",
       "      <td>2</td>\n",
       "      <td>0</td>\n",
       "      <td>2</td>\n",
       "      <td>2</td>\n",
       "      <td>0</td>\n",
       "      <td>0</td>\n",
       "      <td>SP21</td>\n",
       "    </tr>\n",
       "  </tbody>\n",
       "</table>\n",
       "</div>"
      ],
      "text/plain": [
       "    project_name                 programming_background  \\\n",
       "26  SP21_B00_005                       Java, Javascript   \n",
       "63  SP21_C00_017          I've never programmed before!   \n",
       "81  SP21_C00_035  I've never programmed before!, Python   \n",
       "\n",
       "                                           pre_skills  Total Score instructor  \\\n",
       "26  Program at an introductory level in the Python...          0.0      Ellis   \n",
       "63                                      None of these          0.0   Bardolph   \n",
       "81              Write and debug small Python programs          0.0   Bardolph   \n",
       "\n",
       "    lines_code  num_imports                         imports  lines_comments  \\\n",
       "26          96            2  ['sys', 'my_module.functions']               9   \n",
       "63          73            2  ['sys', 'my_module.functions']              18   \n",
       "81           8            2  ['sys', 'my_module.functions']               9   \n",
       "\n",
       "    num_comments_words  num_functions  num_classes  num_tests  num_asserts  \\\n",
       "26                  55             16            2          2            2   \n",
       "63                 351              4            0          4           13   \n",
       "81                  55              2            0          2            2   \n",
       "\n",
       "    num_logic  num_loops project_quarter  \n",
       "26          7          9            SP21  \n",
       "63          2          4            SP21  \n",
       "81          0          0            SP21  "
      ]
     },
     "execution_count": 13,
     "metadata": {},
     "output_type": "execute_result"
    }
   ],
   "source": [
    "df[df[\"Total Score\"]==0]"
   ]
  },
  {
   "cell_type": "code",
   "execution_count": 14,
   "id": "dd611e7c",
   "metadata": {},
   "outputs": [
    {
     "data": {
      "text/html": [
       "<div>\n",
       "<style scoped>\n",
       "    .dataframe tbody tr th:only-of-type {\n",
       "        vertical-align: middle;\n",
       "    }\n",
       "\n",
       "    .dataframe tbody tr th {\n",
       "        vertical-align: top;\n",
       "    }\n",
       "\n",
       "    .dataframe thead th {\n",
       "        text-align: right;\n",
       "    }\n",
       "</style>\n",
       "<table border=\"1\" class=\"dataframe\">\n",
       "  <thead>\n",
       "    <tr style=\"text-align: right;\">\n",
       "      <th></th>\n",
       "      <th>project_name</th>\n",
       "      <th>programming_background</th>\n",
       "      <th>pre_skills</th>\n",
       "      <th>Total Score</th>\n",
       "      <th>instructor</th>\n",
       "      <th>lines_code</th>\n",
       "      <th>num_imports</th>\n",
       "      <th>imports</th>\n",
       "      <th>lines_comments</th>\n",
       "      <th>num_comments_words</th>\n",
       "      <th>num_functions</th>\n",
       "      <th>num_classes</th>\n",
       "      <th>num_tests</th>\n",
       "    </tr>\n",
       "  </thead>\n",
       "  <tbody>\n",
       "    <tr>\n",
       "      <th>26</th>\n",
       "      <td>SP21_B00_005</td>\n",
       "      <td>Java, Javascript</td>\n",
       "      <td>Program at an introductory level in the Python...</td>\n",
       "      <td>0.0</td>\n",
       "      <td>Ellis</td>\n",
       "      <td>96</td>\n",
       "      <td>2</td>\n",
       "      <td>['sys', 'my_module.functions']</td>\n",
       "      <td>9</td>\n",
       "      <td>55</td>\n",
       "      <td>16</td>\n",
       "      <td>2</td>\n",
       "      <td>2</td>\n",
       "    </tr>\n",
       "    <tr>\n",
       "      <th>63</th>\n",
       "      <td>SP21_C00_017</td>\n",
       "      <td>I've never programmed before!</td>\n",
       "      <td>None of these</td>\n",
       "      <td>0.0</td>\n",
       "      <td>Bardolph</td>\n",
       "      <td>73</td>\n",
       "      <td>2</td>\n",
       "      <td>['sys', 'my_module.functions']</td>\n",
       "      <td>18</td>\n",
       "      <td>351</td>\n",
       "      <td>4</td>\n",
       "      <td>0</td>\n",
       "      <td>4</td>\n",
       "    </tr>\n",
       "    <tr>\n",
       "      <th>81</th>\n",
       "      <td>SP21_C00_035</td>\n",
       "      <td>I've never programmed before!, Python</td>\n",
       "      <td>Write and debug small Python programs</td>\n",
       "      <td>0.0</td>\n",
       "      <td>Bardolph</td>\n",
       "      <td>8</td>\n",
       "      <td>2</td>\n",
       "      <td>['sys', 'my_module.functions']</td>\n",
       "      <td>9</td>\n",
       "      <td>55</td>\n",
       "      <td>2</td>\n",
       "      <td>0</td>\n",
       "      <td>2</td>\n",
       "    </tr>\n",
       "  </tbody>\n",
       "</table>\n",
       "</div>"
      ],
      "text/plain": [
       "    project_name                 programming_background  \\\n",
       "26  SP21_B00_005                       Java, Javascript   \n",
       "63  SP21_C00_017          I've never programmed before!   \n",
       "81  SP21_C00_035  I've never programmed before!, Python   \n",
       "\n",
       "                                           pre_skills  Total Score instructor  \\\n",
       "26  Program at an introductory level in the Python...          0.0      Ellis   \n",
       "63                                      None of these          0.0   Bardolph   \n",
       "81              Write and debug small Python programs          0.0   Bardolph   \n",
       "\n",
       "    lines_code  num_imports                         imports  lines_comments  \\\n",
       "26          96            2  ['sys', 'my_module.functions']               9   \n",
       "63          73            2  ['sys', 'my_module.functions']              18   \n",
       "81           8            2  ['sys', 'my_module.functions']               9   \n",
       "\n",
       "    num_comments_words  num_functions  num_classes  num_tests  \n",
       "26                  55             16            2          2  \n",
       "63                 351              4            0          4  \n",
       "81                  55              2            0          2  "
      ]
     },
     "execution_count": 14,
     "metadata": {},
     "output_type": "execute_result"
    }
   ],
   "source": [
    "score_columns = (df.columns)[:13]\n",
    "(df[df[\"Total Score\"]==0])[score_columns]"
   ]
  },
  {
   "cell_type": "markdown",
   "id": "ca9e7c25",
   "metadata": {},
   "source": [
    "By checking with the instructor of the course, I discovered that these three projects violated academic integrity, so I will remove them from the dataframe."
   ]
  },
  {
   "cell_type": "code",
   "execution_count": 15,
   "id": "8a060722",
   "metadata": {},
   "outputs": [],
   "source": [
    "df = df[df[\"Total Score\"] != 0]"
   ]
  },
  {
   "cell_type": "markdown",
   "id": "bbaaecda",
   "metadata": {},
   "source": [
    "Next, I'll take a look at extremely low scores, as defined by a project receiving less than 50% of the possible points."
   ]
  },
  {
   "cell_type": "code",
   "execution_count": 16,
   "id": "7483ee90",
   "metadata": {},
   "outputs": [
    {
     "data": {
      "text/html": [
       "<div>\n",
       "<style scoped>\n",
       "    .dataframe tbody tr th:only-of-type {\n",
       "        vertical-align: middle;\n",
       "    }\n",
       "\n",
       "    .dataframe tbody tr th {\n",
       "        vertical-align: top;\n",
       "    }\n",
       "\n",
       "    .dataframe thead th {\n",
       "        text-align: right;\n",
       "    }\n",
       "</style>\n",
       "<table border=\"1\" class=\"dataframe\">\n",
       "  <thead>\n",
       "    <tr style=\"text-align: right;\">\n",
       "      <th></th>\n",
       "      <th>project_name</th>\n",
       "      <th>programming_background</th>\n",
       "      <th>pre_skills</th>\n",
       "      <th>Total Score</th>\n",
       "      <th>instructor</th>\n",
       "      <th>lines_code</th>\n",
       "      <th>num_imports</th>\n",
       "      <th>imports</th>\n",
       "      <th>lines_comments</th>\n",
       "      <th>num_comments_words</th>\n",
       "      <th>num_functions</th>\n",
       "      <th>num_classes</th>\n",
       "      <th>num_tests</th>\n",
       "      <th>num_asserts</th>\n",
       "      <th>num_logic</th>\n",
       "      <th>num_loops</th>\n",
       "      <th>project_quarter</th>\n",
       "    </tr>\n",
       "  </thead>\n",
       "  <tbody>\n",
       "    <tr>\n",
       "      <th>102</th>\n",
       "      <td>SP21_C00_056</td>\n",
       "      <td>I've never programmed before!</td>\n",
       "      <td>None of these</td>\n",
       "      <td>12.0</td>\n",
       "      <td>Bardolph</td>\n",
       "      <td>8</td>\n",
       "      <td>2</td>\n",
       "      <td>['sys', 'my_module.functions']</td>\n",
       "      <td>9</td>\n",
       "      <td>55</td>\n",
       "      <td>2</td>\n",
       "      <td>0</td>\n",
       "      <td>2</td>\n",
       "      <td>2</td>\n",
       "      <td>0</td>\n",
       "      <td>0</td>\n",
       "      <td>SP21</td>\n",
       "    </tr>\n",
       "  </tbody>\n",
       "</table>\n",
       "</div>"
      ],
      "text/plain": [
       "     project_name         programming_background     pre_skills  Total Score  \\\n",
       "102  SP21_C00_056  I've never programmed before!  None of these         12.0   \n",
       "\n",
       "    instructor  lines_code  num_imports                         imports  \\\n",
       "102   Bardolph           8            2  ['sys', 'my_module.functions']   \n",
       "\n",
       "     lines_comments  num_comments_words  num_functions  num_classes  \\\n",
       "102               9                  55              2            0   \n",
       "\n",
       "     num_tests  num_asserts  num_logic  num_loops project_quarter  \n",
       "102          2            2          0          0            SP21  "
      ]
     },
     "execution_count": 16,
     "metadata": {},
     "output_type": "execute_result"
    }
   ],
   "source": [
    "df[df[\"Total Score\"] < 50]"
   ]
  },
  {
   "cell_type": "markdown",
   "id": "fe667da4",
   "metadata": {},
   "source": [
    "This project is an outlier in terms of its total score. After discussion with the professor, it was determined this was a student who took the course P/NP and only needed a few points to pass the course. As such, it is not reflective of a typical COGS 18 project and will be removed from analysis."
   ]
  },
  {
   "cell_type": "code",
   "execution_count": 17,
   "id": "8a42af7a",
   "metadata": {},
   "outputs": [],
   "source": [
    "df = df[df[\"Total Score\"] >= 50]"
   ]
  },
  {
   "cell_type": "markdown",
   "id": "687ef45a",
   "metadata": {},
   "source": [
    "[Jump Back to Table of Contents](#Top)"
   ]
  },
  {
   "cell_type": "markdown",
   "id": "13e8785b",
   "metadata": {},
   "source": [
    "### Programming experience <a class=\"anchor\" id=\"Programming_experience\"></a>"
   ]
  },
  {
   "cell_type": "code",
   "execution_count": 18,
   "id": "271b8b28",
   "metadata": {},
   "outputs": [
    {
     "data": {
      "text/plain": [
       "array([\"I've never programmed before!\", 'Matlab', 'C/C++', 'Python, Java',\n",
       "       'Java, C/C++', 'Java', 'Python, Java, C/C++', 'Maple', 'Python',\n",
       "       'Python, Java, Javascript', 'Java, R, C/C++',\n",
       "       'Java, Javascript, SPSS', 'R', 'Javascript', 'HTML',\n",
       "       'Java, Javascript, C/C++', 'Python, Java, R', 'Python, R',\n",
       "       \"I've done a little coding in shell for my microbiology lab\",\n",
       "       \"I've never programmed before!, Python\",\n",
       "       'Python, Java, Javascript, R, C/C++',\n",
       "       'I have used MATLAB a little bit.',\n",
       "       'Javascript, I took a class where we learned html and css',\n",
       "       'the concepts in COGS 3',\n",
       "       'R, Worked with R and STATA for other courses before but basically never programmed before.',\n",
       "       'SQL'], dtype=object)"
      ]
     },
     "execution_count": 18,
     "metadata": {},
     "output_type": "execute_result"
    }
   ],
   "source": [
    "df[\"programming_background\"].unique()"
   ]
  },
  {
   "cell_type": "markdown",
   "id": "49e90d18",
   "metadata": {},
   "source": [
    "I will categorize these answers for easier analysis."
   ]
  },
  {
   "cell_type": "code",
   "execution_count": 19,
   "id": "25ac6488",
   "metadata": {
    "code_folding": []
   },
   "outputs": [],
   "source": [
    "# categorizing programming background\n",
    "\n",
    "def categorizing_programming_background(row):\n",
    "    background = str(row[\"programming_background\"])\n",
    "    if (\"I've never programmed before!\" in background):\n",
    "        return \"None\"\n",
    "    elif (background == \"Python\"):\n",
    "        return \"Python\"\n",
    "    elif (\"Python\" in background and len(background)>6):\n",
    "        return \"Python+\"\n",
    "    elif (\"Java\" in background or \"C/C++\" in background or \"Javascript\" in background):\n",
    "        return \"Java/C/C++/Javascript\"\n",
    "    else:\n",
    "        return \"Other\"\n",
    "\n",
    "df[\"programming_background\"] = df.apply (lambda row: categorizing_programming_background(row), axis=1)   "
   ]
  },
  {
   "cell_type": "code",
   "execution_count": 20,
   "id": "7d9afd01",
   "metadata": {
    "scrolled": false
   },
   "outputs": [
    {
     "data": {
      "text/plain": [
       "array(['None of these',\n",
       "       'Read basic Python programs, recognizing the structures they use and be able to explain how they work, Solve basic problems using programmatic solutions, Execute Python programs on your local computer, using notebooks and the command line',\n",
       "       'Solve basic problems using programmatic solutions',\n",
       "       'Solve basic problems using programmatic solutions, Execute Python programs on your local computer, using notebooks and the command line',\n",
       "       'Program at an introductory level in the Python programming language, Write and debug small Python programs',\n",
       "       'Read basic Python programs, recognizing the structures they use and be able to explain how they work, Solve basic problems using programmatic solutions',\n",
       "       'Program at an introductory level in the Python programming language, Read basic Python programs, recognizing the structures they use and be able to explain how they work, Solve basic problems using programmatic solutions, Write and debug small Python programs, Execute Python programs on your local computer, using notebooks and the command line',\n",
       "       'Program at an introductory level in the Python programming language, Solve basic problems using programmatic solutions, Write and debug small Python programs',\n",
       "       'Program at an introductory level in the Python programming language, Read basic Python programs, recognizing the structures they use and be able to explain how they work, Solve basic problems using programmatic solutions, Write and debug small Python programs, Execute Python programs on your local computer, using notebooks and the command line, Describe and implement best practices in Python, keeping in mind that programming is done by and for humans',\n",
       "       'Write and debug small Python programs',\n",
       "       'Execute Python programs on your local computer, using notebooks and the command line',\n",
       "       'Program at an introductory level in the Python programming language, Read basic Python programs, recognizing the structures they use and be able to explain how they work, Solve basic problems using programmatic solutions, Write and debug small Python programs',\n",
       "       'Solve basic problems using programmatic solutions, Write and debug small Python programs',\n",
       "       'Program at an introductory level in the Python programming language, Read basic Python programs, recognizing the structures they use and be able to explain how they work, Solve basic problems using programmatic solutions',\n",
       "       'Program at an introductory level in the Python programming language',\n",
       "       'Read basic Python programs, recognizing the structures they use and be able to explain how they work, Solve basic problems using programmatic solutions, Describe and implement best practices in Python, keeping in mind that programming is done by and for humans'],\n",
       "      dtype=object)"
      ]
     },
     "execution_count": 20,
     "metadata": {},
     "output_type": "execute_result"
    }
   ],
   "source": [
    "df[\"pre_skills\"].unique()"
   ]
  },
  {
   "cell_type": "markdown",
   "id": "908badc4",
   "metadata": {},
   "source": [
    "Firstly, I will one-hot encode the pre-skills, then I will catagorize them to advanced_skill, intermediate_skills, and basic_skills for easier analysis."
   ]
  },
  {
   "cell_type": "code",
   "execution_count": 21,
   "id": "3ab6f188",
   "metadata": {},
   "outputs": [],
   "source": [
    "# one-hot encode pre-skills\n",
    "\n",
    "skills_list = [\"Describe and implement best practices in Python, keeping in mind that programming is done by and for humans\",\n",
    "               \"Program at an introductory level in the Python programming language\",\n",
    "               \"Solve basic problems using programmatic solutions\",\n",
    "               \"Write and debug small Python programs\",\n",
    "               \"Read basic Python programs, recognizing the structures they use and be able to explain how they work\",\n",
    "               \"Execute Python programs on your local computer, using notebooks and the command line\"]\n",
    "\n",
    "# creating new columns\n",
    "df_skills = pd.DataFrame(columns=skills_list)\n",
    "df.join(df_skills, how=\"outer\")\n",
    "\n",
    "# one-hot encode\n",
    "def one_hot_encoding_skills(row):\n",
    "    if skill in row[\"pre_skills\"]:\n",
    "        return 1\n",
    "    else:\n",
    "        return 0\n",
    "    \n",
    "for skill in skills_list:\n",
    "    df[skill] = df.apply (lambda row: one_hot_encoding_skills(row), axis=1)"
   ]
  },
  {
   "cell_type": "code",
   "execution_count": 22,
   "id": "295734c8",
   "metadata": {},
   "outputs": [],
   "source": [
    "# categorzing pre-skills\n",
    "\n",
    "advanced_skill = \"Describe and implement best practices in Python, keeping in mind that programming is done by and for humans\"\n",
    "intermediate_skills = [ \"Solve basic problems using programmatic solutions\",\n",
    "                      \"Write and debug small Python programs\"]\n",
    "basic_skills = [\"Read basic Python programs, recognizing the structures they use and be able to explain how they work\",\n",
    "               \"Execute Python programs on your local computer, using notebooks and the command line\",\n",
    "               \"Program at an introductory level in the Python programming language\"]\n",
    "\n",
    "def categorizing_pre_skills(row):\n",
    "    skills = row[\"pre_skills\"]\n",
    "    \n",
    "    if advanced_skill in skills:\n",
    "        return \"Advanced\"\n",
    "    elif \"None of these\" in skills:\n",
    "        return \"None\"\n",
    "    else:\n",
    "        have_intermediate_skill = False\n",
    "        for intermediate_skill in intermediate_skills:\n",
    "            if intermediate_skill in skills:\n",
    "                have_intermediate_skill = True\n",
    "        \n",
    "        if have_intermediate_skill==True:\n",
    "            return \"Intermediate\"\n",
    "        else:\n",
    "            return \"Basic\"\n",
    "        \n",
    "\n",
    "df[\"pre_skills\"] = df.apply(lambda row: categorizing_pre_skills(row), axis=1)         "
   ]
  },
  {
   "cell_type": "markdown",
   "id": "23fce129",
   "metadata": {},
   "source": [
    "[Jump Back to Table of Contents](#Top)"
   ]
  },
  {
   "cell_type": "markdown",
   "id": "4531e6ab",
   "metadata": {},
   "source": [
    "### Imports <a class=\"anchor\" id=\"Imports\"></a>"
   ]
  },
  {
   "cell_type": "code",
   "execution_count": 23,
   "id": "d17905fb",
   "metadata": {},
   "outputs": [],
   "source": [
    "# converting data stored in each cell to lists\n",
    "\n",
    "df[\"imports\"] = df[\"imports\"].apply(eval)"
   ]
  },
  {
   "cell_type": "markdown",
   "id": "d36bd535",
   "metadata": {},
   "source": [
    "[Jump Back to Table of Contents](#Top)"
   ]
  },
  {
   "cell_type": "markdown",
   "id": "e2ec31e1",
   "metadata": {},
   "source": [
    "# Exploratory Data Analysis <a class=\"anchor\" id=\"Exploratory_Data_Analysis\"></a>"
   ]
  },
  {
   "cell_type": "markdown",
   "id": "da015252",
   "metadata": {},
   "source": [
    "First, I'll skim through the quantitative data in the dataframe. In order to explore more on the aspect of what makes a project great, I'll create a new dataframes that only contains projects from students whose total score is at or above the 75 percentile."
   ]
  },
  {
   "cell_type": "code",
   "execution_count": 24,
   "id": "d87b304a",
   "metadata": {
    "scrolled": false
   },
   "outputs": [
    {
     "data": {
      "text/html": [
       "<div>\n",
       "<style scoped>\n",
       "    .dataframe tbody tr th:only-of-type {\n",
       "        vertical-align: middle;\n",
       "    }\n",
       "\n",
       "    .dataframe tbody tr th {\n",
       "        vertical-align: top;\n",
       "    }\n",
       "\n",
       "    .dataframe thead th {\n",
       "        text-align: right;\n",
       "    }\n",
       "</style>\n",
       "<table border=\"1\" class=\"dataframe\">\n",
       "  <thead>\n",
       "    <tr style=\"text-align: right;\">\n",
       "      <th></th>\n",
       "      <th>Total Score</th>\n",
       "      <th>lines_code</th>\n",
       "      <th>num_imports</th>\n",
       "      <th>lines_comments</th>\n",
       "      <th>num_comments_words</th>\n",
       "      <th>num_functions</th>\n",
       "      <th>num_classes</th>\n",
       "      <th>num_tests</th>\n",
       "      <th>num_asserts</th>\n",
       "      <th>num_logic</th>\n",
       "      <th>num_loops</th>\n",
       "      <th>Describe and implement best practices in Python, keeping in mind that programming is done by and for humans</th>\n",
       "      <th>Program at an introductory level in the Python programming language</th>\n",
       "      <th>Solve basic problems using programmatic solutions</th>\n",
       "      <th>Write and debug small Python programs</th>\n",
       "      <th>Read basic Python programs, recognizing the structures they use and be able to explain how they work</th>\n",
       "      <th>Execute Python programs on your local computer, using notebooks and the command line</th>\n",
       "    </tr>\n",
       "  </thead>\n",
       "  <tbody>\n",
       "    <tr>\n",
       "      <th>count</th>\n",
       "      <td>136.000000</td>\n",
       "      <td>136.000000</td>\n",
       "      <td>136.000000</td>\n",
       "      <td>136.000000</td>\n",
       "      <td>136.000000</td>\n",
       "      <td>136.000000</td>\n",
       "      <td>136.000000</td>\n",
       "      <td>136.000000</td>\n",
       "      <td>136.000000</td>\n",
       "      <td>136.000000</td>\n",
       "      <td>136.000000</td>\n",
       "      <td>136.000000</td>\n",
       "      <td>136.000000</td>\n",
       "      <td>136.000000</td>\n",
       "      <td>136.000000</td>\n",
       "      <td>136.000000</td>\n",
       "      <td>136.000000</td>\n",
       "    </tr>\n",
       "    <tr>\n",
       "      <th>mean</th>\n",
       "      <td>90.407353</td>\n",
       "      <td>101.617647</td>\n",
       "      <td>3.500000</td>\n",
       "      <td>66.411765</td>\n",
       "      <td>397.169118</td>\n",
       "      <td>7.044118</td>\n",
       "      <td>0.698529</td>\n",
       "      <td>4.205882</td>\n",
       "      <td>9.985294</td>\n",
       "      <td>6.845588</td>\n",
       "      <td>2.477941</td>\n",
       "      <td>0.044118</td>\n",
       "      <td>0.095588</td>\n",
       "      <td>0.227941</td>\n",
       "      <td>0.095588</td>\n",
       "      <td>0.110294</td>\n",
       "      <td>0.073529</td>\n",
       "    </tr>\n",
       "    <tr>\n",
       "      <th>std</th>\n",
       "      <td>11.415744</td>\n",
       "      <td>93.662282</td>\n",
       "      <td>2.697049</td>\n",
       "      <td>59.911845</td>\n",
       "      <td>364.560914</td>\n",
       "      <td>5.132132</td>\n",
       "      <td>1.661413</td>\n",
       "      <td>2.908780</td>\n",
       "      <td>9.029979</td>\n",
       "      <td>9.621641</td>\n",
       "      <td>5.222412</td>\n",
       "      <td>0.206116</td>\n",
       "      <td>0.295113</td>\n",
       "      <td>0.421055</td>\n",
       "      <td>0.295113</td>\n",
       "      <td>0.314414</td>\n",
       "      <td>0.261968</td>\n",
       "    </tr>\n",
       "    <tr>\n",
       "      <th>min</th>\n",
       "      <td>56.000000</td>\n",
       "      <td>8.000000</td>\n",
       "      <td>0.000000</td>\n",
       "      <td>2.000000</td>\n",
       "      <td>12.000000</td>\n",
       "      <td>2.000000</td>\n",
       "      <td>0.000000</td>\n",
       "      <td>0.000000</td>\n",
       "      <td>0.000000</td>\n",
       "      <td>0.000000</td>\n",
       "      <td>0.000000</td>\n",
       "      <td>0.000000</td>\n",
       "      <td>0.000000</td>\n",
       "      <td>0.000000</td>\n",
       "      <td>0.000000</td>\n",
       "      <td>0.000000</td>\n",
       "      <td>0.000000</td>\n",
       "    </tr>\n",
       "    <tr>\n",
       "      <th>25%</th>\n",
       "      <td>86.875000</td>\n",
       "      <td>46.750000</td>\n",
       "      <td>2.000000</td>\n",
       "      <td>26.000000</td>\n",
       "      <td>204.000000</td>\n",
       "      <td>4.000000</td>\n",
       "      <td>0.000000</td>\n",
       "      <td>3.000000</td>\n",
       "      <td>4.000000</td>\n",
       "      <td>2.000000</td>\n",
       "      <td>0.000000</td>\n",
       "      <td>0.000000</td>\n",
       "      <td>0.000000</td>\n",
       "      <td>0.000000</td>\n",
       "      <td>0.000000</td>\n",
       "      <td>0.000000</td>\n",
       "      <td>0.000000</td>\n",
       "    </tr>\n",
       "    <tr>\n",
       "      <th>50%</th>\n",
       "      <td>93.750000</td>\n",
       "      <td>80.000000</td>\n",
       "      <td>3.000000</td>\n",
       "      <td>53.000000</td>\n",
       "      <td>298.500000</td>\n",
       "      <td>5.000000</td>\n",
       "      <td>0.000000</td>\n",
       "      <td>3.000000</td>\n",
       "      <td>8.000000</td>\n",
       "      <td>4.000000</td>\n",
       "      <td>1.000000</td>\n",
       "      <td>0.000000</td>\n",
       "      <td>0.000000</td>\n",
       "      <td>0.000000</td>\n",
       "      <td>0.000000</td>\n",
       "      <td>0.000000</td>\n",
       "      <td>0.000000</td>\n",
       "    </tr>\n",
       "    <tr>\n",
       "      <th>75%</th>\n",
       "      <td>98.500000</td>\n",
       "      <td>122.500000</td>\n",
       "      <td>4.000000</td>\n",
       "      <td>82.500000</td>\n",
       "      <td>485.000000</td>\n",
       "      <td>9.000000</td>\n",
       "      <td>1.000000</td>\n",
       "      <td>5.000000</td>\n",
       "      <td>12.000000</td>\n",
       "      <td>9.250000</td>\n",
       "      <td>3.000000</td>\n",
       "      <td>0.000000</td>\n",
       "      <td>0.000000</td>\n",
       "      <td>0.000000</td>\n",
       "      <td>0.000000</td>\n",
       "      <td>0.000000</td>\n",
       "      <td>0.000000</td>\n",
       "    </tr>\n",
       "    <tr>\n",
       "      <th>max</th>\n",
       "      <td>104.000000</td>\n",
       "      <td>601.000000</td>\n",
       "      <td>13.000000</td>\n",
       "      <td>397.000000</td>\n",
       "      <td>2614.000000</td>\n",
       "      <td>33.000000</td>\n",
       "      <td>14.000000</td>\n",
       "      <td>19.000000</td>\n",
       "      <td>57.000000</td>\n",
       "      <td>82.000000</td>\n",
       "      <td>47.000000</td>\n",
       "      <td>1.000000</td>\n",
       "      <td>1.000000</td>\n",
       "      <td>1.000000</td>\n",
       "      <td>1.000000</td>\n",
       "      <td>1.000000</td>\n",
       "      <td>1.000000</td>\n",
       "    </tr>\n",
       "  </tbody>\n",
       "</table>\n",
       "</div>"
      ],
      "text/plain": [
       "       Total Score  lines_code  num_imports  lines_comments  \\\n",
       "count   136.000000  136.000000   136.000000      136.000000   \n",
       "mean     90.407353  101.617647     3.500000       66.411765   \n",
       "std      11.415744   93.662282     2.697049       59.911845   \n",
       "min      56.000000    8.000000     0.000000        2.000000   \n",
       "25%      86.875000   46.750000     2.000000       26.000000   \n",
       "50%      93.750000   80.000000     3.000000       53.000000   \n",
       "75%      98.500000  122.500000     4.000000       82.500000   \n",
       "max     104.000000  601.000000    13.000000      397.000000   \n",
       "\n",
       "       num_comments_words  num_functions  num_classes   num_tests  \\\n",
       "count          136.000000     136.000000   136.000000  136.000000   \n",
       "mean           397.169118       7.044118     0.698529    4.205882   \n",
       "std            364.560914       5.132132     1.661413    2.908780   \n",
       "min             12.000000       2.000000     0.000000    0.000000   \n",
       "25%            204.000000       4.000000     0.000000    3.000000   \n",
       "50%            298.500000       5.000000     0.000000    3.000000   \n",
       "75%            485.000000       9.000000     1.000000    5.000000   \n",
       "max           2614.000000      33.000000    14.000000   19.000000   \n",
       "\n",
       "       num_asserts   num_logic   num_loops  \\\n",
       "count   136.000000  136.000000  136.000000   \n",
       "mean      9.985294    6.845588    2.477941   \n",
       "std       9.029979    9.621641    5.222412   \n",
       "min       0.000000    0.000000    0.000000   \n",
       "25%       4.000000    2.000000    0.000000   \n",
       "50%       8.000000    4.000000    1.000000   \n",
       "75%      12.000000    9.250000    3.000000   \n",
       "max      57.000000   82.000000   47.000000   \n",
       "\n",
       "       Describe and implement best practices in Python, keeping in mind that programming is done by and for humans  \\\n",
       "count                                         136.000000                                                             \n",
       "mean                                            0.044118                                                             \n",
       "std                                             0.206116                                                             \n",
       "min                                             0.000000                                                             \n",
       "25%                                             0.000000                                                             \n",
       "50%                                             0.000000                                                             \n",
       "75%                                             0.000000                                                             \n",
       "max                                             1.000000                                                             \n",
       "\n",
       "       Program at an introductory level in the Python programming language  \\\n",
       "count                                         136.000000                     \n",
       "mean                                            0.095588                     \n",
       "std                                             0.295113                     \n",
       "min                                             0.000000                     \n",
       "25%                                             0.000000                     \n",
       "50%                                             0.000000                     \n",
       "75%                                             0.000000                     \n",
       "max                                             1.000000                     \n",
       "\n",
       "       Solve basic problems using programmatic solutions  \\\n",
       "count                                         136.000000   \n",
       "mean                                            0.227941   \n",
       "std                                             0.421055   \n",
       "min                                             0.000000   \n",
       "25%                                             0.000000   \n",
       "50%                                             0.000000   \n",
       "75%                                             0.000000   \n",
       "max                                             1.000000   \n",
       "\n",
       "       Write and debug small Python programs  \\\n",
       "count                             136.000000   \n",
       "mean                                0.095588   \n",
       "std                                 0.295113   \n",
       "min                                 0.000000   \n",
       "25%                                 0.000000   \n",
       "50%                                 0.000000   \n",
       "75%                                 0.000000   \n",
       "max                                 1.000000   \n",
       "\n",
       "       Read basic Python programs, recognizing the structures they use and be able to explain how they work  \\\n",
       "count                                         136.000000                                                      \n",
       "mean                                            0.110294                                                      \n",
       "std                                             0.314414                                                      \n",
       "min                                             0.000000                                                      \n",
       "25%                                             0.000000                                                      \n",
       "50%                                             0.000000                                                      \n",
       "75%                                             0.000000                                                      \n",
       "max                                             1.000000                                                      \n",
       "\n",
       "       Execute Python programs on your local computer, using notebooks and the command line  \n",
       "count                                         136.000000                                     \n",
       "mean                                            0.073529                                     \n",
       "std                                             0.261968                                     \n",
       "min                                             0.000000                                     \n",
       "25%                                             0.000000                                     \n",
       "50%                                             0.000000                                     \n",
       "75%                                             0.000000                                     \n",
       "max                                             1.000000                                     "
      ]
     },
     "execution_count": 24,
     "metadata": {},
     "output_type": "execute_result"
    }
   ],
   "source": [
    "df.describe()"
   ]
  },
  {
   "cell_type": "markdown",
   "id": "2375bed1",
   "metadata": {},
   "source": [
    "As seen above, the 75 percentile of the total score is 98.5. I will also create another dataframe for the rest of the data points for future reference."
   ]
  },
  {
   "cell_type": "code",
   "execution_count": 25,
   "id": "4ca36606",
   "metadata": {
    "scrolled": false
   },
   "outputs": [
    {
     "data": {
      "text/html": [
       "<div>\n",
       "<style scoped>\n",
       "    .dataframe tbody tr th:only-of-type {\n",
       "        vertical-align: middle;\n",
       "    }\n",
       "\n",
       "    .dataframe tbody tr th {\n",
       "        vertical-align: top;\n",
       "    }\n",
       "\n",
       "    .dataframe thead th {\n",
       "        text-align: right;\n",
       "    }\n",
       "</style>\n",
       "<table border=\"1\" class=\"dataframe\">\n",
       "  <thead>\n",
       "    <tr style=\"text-align: right;\">\n",
       "      <th></th>\n",
       "      <th>Total Score</th>\n",
       "      <th>lines_code</th>\n",
       "      <th>num_imports</th>\n",
       "      <th>lines_comments</th>\n",
       "      <th>num_comments_words</th>\n",
       "      <th>num_functions</th>\n",
       "      <th>num_classes</th>\n",
       "      <th>num_tests</th>\n",
       "      <th>num_asserts</th>\n",
       "      <th>num_logic</th>\n",
       "      <th>num_loops</th>\n",
       "      <th>Describe and implement best practices in Python, keeping in mind that programming is done by and for humans</th>\n",
       "      <th>Program at an introductory level in the Python programming language</th>\n",
       "      <th>Solve basic problems using programmatic solutions</th>\n",
       "      <th>Write and debug small Python programs</th>\n",
       "      <th>Read basic Python programs, recognizing the structures they use and be able to explain how they work</th>\n",
       "      <th>Execute Python programs on your local computer, using notebooks and the command line</th>\n",
       "    </tr>\n",
       "  </thead>\n",
       "  <tbody>\n",
       "    <tr>\n",
       "      <th>count</th>\n",
       "      <td>33.000000</td>\n",
       "      <td>33.000000</td>\n",
       "      <td>33.000000</td>\n",
       "      <td>33.000000</td>\n",
       "      <td>33.000000</td>\n",
       "      <td>33.000000</td>\n",
       "      <td>33.000000</td>\n",
       "      <td>33.000000</td>\n",
       "      <td>33.000000</td>\n",
       "      <td>33.000000</td>\n",
       "      <td>33.000000</td>\n",
       "      <td>33.000000</td>\n",
       "      <td>33.000000</td>\n",
       "      <td>33.000000</td>\n",
       "      <td>33.000000</td>\n",
       "      <td>33.000000</td>\n",
       "      <td>33.000000</td>\n",
       "    </tr>\n",
       "    <tr>\n",
       "      <th>mean</th>\n",
       "      <td>100.969697</td>\n",
       "      <td>102.909091</td>\n",
       "      <td>3.969697</td>\n",
       "      <td>92.878788</td>\n",
       "      <td>519.242424</td>\n",
       "      <td>7.030303</td>\n",
       "      <td>0.484848</td>\n",
       "      <td>5.060606</td>\n",
       "      <td>12.787879</td>\n",
       "      <td>5.969697</td>\n",
       "      <td>3.909091</td>\n",
       "      <td>0.090909</td>\n",
       "      <td>0.181818</td>\n",
       "      <td>0.303030</td>\n",
       "      <td>0.090909</td>\n",
       "      <td>0.212121</td>\n",
       "      <td>0.060606</td>\n",
       "    </tr>\n",
       "    <tr>\n",
       "      <th>std</th>\n",
       "      <td>1.585774</td>\n",
       "      <td>66.781998</td>\n",
       "      <td>3.206291</td>\n",
       "      <td>47.769471</td>\n",
       "      <td>257.311464</td>\n",
       "      <td>3.404821</td>\n",
       "      <td>0.667140</td>\n",
       "      <td>2.331032</td>\n",
       "      <td>6.318413</td>\n",
       "      <td>5.531076</td>\n",
       "      <td>8.133125</td>\n",
       "      <td>0.291937</td>\n",
       "      <td>0.391675</td>\n",
       "      <td>0.466694</td>\n",
       "      <td>0.291937</td>\n",
       "      <td>0.415149</td>\n",
       "      <td>0.242306</td>\n",
       "    </tr>\n",
       "    <tr>\n",
       "      <th>min</th>\n",
       "      <td>99.000000</td>\n",
       "      <td>29.000000</td>\n",
       "      <td>0.000000</td>\n",
       "      <td>39.000000</td>\n",
       "      <td>211.000000</td>\n",
       "      <td>3.000000</td>\n",
       "      <td>0.000000</td>\n",
       "      <td>3.000000</td>\n",
       "      <td>0.000000</td>\n",
       "      <td>0.000000</td>\n",
       "      <td>0.000000</td>\n",
       "      <td>0.000000</td>\n",
       "      <td>0.000000</td>\n",
       "      <td>0.000000</td>\n",
       "      <td>0.000000</td>\n",
       "      <td>0.000000</td>\n",
       "      <td>0.000000</td>\n",
       "    </tr>\n",
       "    <tr>\n",
       "      <th>25%</th>\n",
       "      <td>100.000000</td>\n",
       "      <td>53.000000</td>\n",
       "      <td>2.000000</td>\n",
       "      <td>56.000000</td>\n",
       "      <td>302.000000</td>\n",
       "      <td>5.000000</td>\n",
       "      <td>0.000000</td>\n",
       "      <td>3.000000</td>\n",
       "      <td>9.000000</td>\n",
       "      <td>1.000000</td>\n",
       "      <td>1.000000</td>\n",
       "      <td>0.000000</td>\n",
       "      <td>0.000000</td>\n",
       "      <td>0.000000</td>\n",
       "      <td>0.000000</td>\n",
       "      <td>0.000000</td>\n",
       "      <td>0.000000</td>\n",
       "    </tr>\n",
       "    <tr>\n",
       "      <th>50%</th>\n",
       "      <td>101.000000</td>\n",
       "      <td>88.000000</td>\n",
       "      <td>3.000000</td>\n",
       "      <td>72.000000</td>\n",
       "      <td>450.000000</td>\n",
       "      <td>6.000000</td>\n",
       "      <td>0.000000</td>\n",
       "      <td>4.000000</td>\n",
       "      <td>11.000000</td>\n",
       "      <td>5.000000</td>\n",
       "      <td>2.000000</td>\n",
       "      <td>0.000000</td>\n",
       "      <td>0.000000</td>\n",
       "      <td>0.000000</td>\n",
       "      <td>0.000000</td>\n",
       "      <td>0.000000</td>\n",
       "      <td>0.000000</td>\n",
       "    </tr>\n",
       "    <tr>\n",
       "      <th>75%</th>\n",
       "      <td>102.000000</td>\n",
       "      <td>140.000000</td>\n",
       "      <td>6.000000</td>\n",
       "      <td>133.000000</td>\n",
       "      <td>735.000000</td>\n",
       "      <td>9.000000</td>\n",
       "      <td>1.000000</td>\n",
       "      <td>6.000000</td>\n",
       "      <td>18.000000</td>\n",
       "      <td>9.000000</td>\n",
       "      <td>4.000000</td>\n",
       "      <td>0.000000</td>\n",
       "      <td>0.000000</td>\n",
       "      <td>1.000000</td>\n",
       "      <td>0.000000</td>\n",
       "      <td>0.000000</td>\n",
       "      <td>0.000000</td>\n",
       "    </tr>\n",
       "    <tr>\n",
       "      <th>max</th>\n",
       "      <td>104.000000</td>\n",
       "      <td>341.000000</td>\n",
       "      <td>13.000000</td>\n",
       "      <td>202.000000</td>\n",
       "      <td>1171.000000</td>\n",
       "      <td>15.000000</td>\n",
       "      <td>2.000000</td>\n",
       "      <td>12.000000</td>\n",
       "      <td>27.000000</td>\n",
       "      <td>20.000000</td>\n",
       "      <td>47.000000</td>\n",
       "      <td>1.000000</td>\n",
       "      <td>1.000000</td>\n",
       "      <td>1.000000</td>\n",
       "      <td>1.000000</td>\n",
       "      <td>1.000000</td>\n",
       "      <td>1.000000</td>\n",
       "    </tr>\n",
       "  </tbody>\n",
       "</table>\n",
       "</div>"
      ],
      "text/plain": [
       "       Total Score  lines_code  num_imports  lines_comments  \\\n",
       "count    33.000000   33.000000    33.000000       33.000000   \n",
       "mean    100.969697  102.909091     3.969697       92.878788   \n",
       "std       1.585774   66.781998     3.206291       47.769471   \n",
       "min      99.000000   29.000000     0.000000       39.000000   \n",
       "25%     100.000000   53.000000     2.000000       56.000000   \n",
       "50%     101.000000   88.000000     3.000000       72.000000   \n",
       "75%     102.000000  140.000000     6.000000      133.000000   \n",
       "max     104.000000  341.000000    13.000000      202.000000   \n",
       "\n",
       "       num_comments_words  num_functions  num_classes  num_tests  num_asserts  \\\n",
       "count           33.000000      33.000000    33.000000  33.000000    33.000000   \n",
       "mean           519.242424       7.030303     0.484848   5.060606    12.787879   \n",
       "std            257.311464       3.404821     0.667140   2.331032     6.318413   \n",
       "min            211.000000       3.000000     0.000000   3.000000     0.000000   \n",
       "25%            302.000000       5.000000     0.000000   3.000000     9.000000   \n",
       "50%            450.000000       6.000000     0.000000   4.000000    11.000000   \n",
       "75%            735.000000       9.000000     1.000000   6.000000    18.000000   \n",
       "max           1171.000000      15.000000     2.000000  12.000000    27.000000   \n",
       "\n",
       "       num_logic  num_loops  \\\n",
       "count  33.000000  33.000000   \n",
       "mean    5.969697   3.909091   \n",
       "std     5.531076   8.133125   \n",
       "min     0.000000   0.000000   \n",
       "25%     1.000000   1.000000   \n",
       "50%     5.000000   2.000000   \n",
       "75%     9.000000   4.000000   \n",
       "max    20.000000  47.000000   \n",
       "\n",
       "       Describe and implement best practices in Python, keeping in mind that programming is done by and for humans  \\\n",
       "count                                          33.000000                                                             \n",
       "mean                                            0.090909                                                             \n",
       "std                                             0.291937                                                             \n",
       "min                                             0.000000                                                             \n",
       "25%                                             0.000000                                                             \n",
       "50%                                             0.000000                                                             \n",
       "75%                                             0.000000                                                             \n",
       "max                                             1.000000                                                             \n",
       "\n",
       "       Program at an introductory level in the Python programming language  \\\n",
       "count                                          33.000000                     \n",
       "mean                                            0.181818                     \n",
       "std                                             0.391675                     \n",
       "min                                             0.000000                     \n",
       "25%                                             0.000000                     \n",
       "50%                                             0.000000                     \n",
       "75%                                             0.000000                     \n",
       "max                                             1.000000                     \n",
       "\n",
       "       Solve basic problems using programmatic solutions  \\\n",
       "count                                          33.000000   \n",
       "mean                                            0.303030   \n",
       "std                                             0.466694   \n",
       "min                                             0.000000   \n",
       "25%                                             0.000000   \n",
       "50%                                             0.000000   \n",
       "75%                                             1.000000   \n",
       "max                                             1.000000   \n",
       "\n",
       "       Write and debug small Python programs  \\\n",
       "count                              33.000000   \n",
       "mean                                0.090909   \n",
       "std                                 0.291937   \n",
       "min                                 0.000000   \n",
       "25%                                 0.000000   \n",
       "50%                                 0.000000   \n",
       "75%                                 0.000000   \n",
       "max                                 1.000000   \n",
       "\n",
       "       Read basic Python programs, recognizing the structures they use and be able to explain how they work  \\\n",
       "count                                          33.000000                                                      \n",
       "mean                                            0.212121                                                      \n",
       "std                                             0.415149                                                      \n",
       "min                                             0.000000                                                      \n",
       "25%                                             0.000000                                                      \n",
       "50%                                             0.000000                                                      \n",
       "75%                                             0.000000                                                      \n",
       "max                                             1.000000                                                      \n",
       "\n",
       "       Execute Python programs on your local computer, using notebooks and the command line  \n",
       "count                                          33.000000                                     \n",
       "mean                                            0.060606                                     \n",
       "std                                             0.242306                                     \n",
       "min                                             0.000000                                     \n",
       "25%                                             0.000000                                     \n",
       "50%                                             0.000000                                     \n",
       "75%                                             0.000000                                     \n",
       "max                                             1.000000                                     "
      ]
     },
     "execution_count": 25,
     "metadata": {},
     "output_type": "execute_result"
    }
   ],
   "source": [
    "df_high_score = df[df[\"Total Score\"] > 98.5]\n",
    "df_rest = df[df[\"Total Score\"] <= 98.5]\n",
    "df_high_score.describe()"
   ]
  },
  {
   "cell_type": "markdown",
   "id": "25be36d9",
   "metadata": {},
   "source": [
    "Next, I'll create a heatmap to get an overview of potential correlations between total scores and other numeric variables."
   ]
  },
  {
   "cell_type": "code",
   "execution_count": 26,
   "id": "5088bfba",
   "metadata": {},
   "outputs": [
    {
     "data": {
      "image/png": "[encoded data removed]",
      "text/plain": [
       "<Figure size 720x720 with 2 Axes>"
      ]
     },
     "metadata": {
      "needs_background": "light"
     },
     "output_type": "display_data"
    }
   ],
   "source": [
    "plt.figure(figsize=(10, 10))\n",
    "mask = np.triu(np.ones_like(df[['Total Score', 'lines_code', 'num_imports',\n",
    "       'lines_comments', 'num_comments_words', 'num_functions', 'num_classes',\n",
    "       'num_tests', 'num_asserts', 'num_logic', 'num_loops']].corr(), dtype=bool))\n",
    "p = sns.heatmap(df[['Total Score', 'lines_code', 'num_imports',\n",
    "       'lines_comments', 'num_comments_words', 'num_functions', 'num_classes',\n",
    "       'num_tests', 'num_asserts', 'num_logic', 'num_loops']].corr(), mask=mask, vmin=-1, vmax=1, annot=True)"
   ]
  },
  {
   "cell_type": "markdown",
   "id": "e43006fa",
   "metadata": {},
   "source": [
    "According to the heatmap, there is no clear correlation between total scores and other numerical variables.  For the next step, I'll delve deep into each variable to seek hidden correlations and come up with practical insights."
   ]
  },
  {
   "cell_type": "markdown",
   "id": "36c721ae",
   "metadata": {},
   "source": [
    "[Jump Back to Table of Contents](#Top)"
   ]
  },
  {
   "cell_type": "markdown",
   "id": "bb30efd7",
   "metadata": {},
   "source": [
    "### Programming background <a class=\"anchor\" id=\"Programming_background\"></a>"
   ]
  },
  {
   "cell_type": "markdown",
   "id": "05764df6",
   "metadata": {},
   "source": [
    "To begin with, I'll look into data related to programming experience and analyze their relation with total scores. To clarify, the category python indicates that the student had programming experience in python and only python, and python+ indicates that the student had programming experience in python and other programming language(s)."
   ]
  },
  {
   "cell_type": "code",
   "execution_count": 27,
   "id": "4a3f3b28",
   "metadata": {},
   "outputs": [
    {
     "data": {
      "image/png": "[encoded data removed]",
      "text/plain": [
       "<Figure size 720x432 with 1 Axes>"
      ]
     },
     "metadata": {
      "needs_background": "light"
     },
     "output_type": "display_data"
    }
   ],
   "source": [
    "plt.figure(figsize=(10,6))\n",
    "p = sns.countplot(data=df, x=\"programming_background\", order = df[\"programming_background\"].value_counts().index);\n",
    "p.set_title(\"Amount of Students from Each Programming Background\");"
   ]
  },
  {
   "cell_type": "markdown",
   "id": "d03cc344",
   "metadata": {},
   "source": [
    "As shown in the count plot, most students entered this class without any programming background. One thing to point out is that there are only a few students with experience in Python (Python+ and Python). "
   ]
  },
  {
   "cell_type": "code",
   "execution_count": 28,
   "id": "d664cb84",
   "metadata": {
    "scrolled": false
   },
   "outputs": [
    {
     "data": {
      "image/png": "[encoded data removed]",
      "text/plain": [
       "<Figure size 720x432 with 1 Axes>"
      ]
     },
     "metadata": {
      "needs_background": "light"
     },
     "output_type": "display_data"
    }
   ],
   "source": [
    "plt.figure(figsize=(10,6))\n",
    "p = sns.boxplot(data=df, x=\"Total Score\", y=\"programming_background\");\n",
    "p.set_title(\"Comparison of Total Score Across Different Programming Backgrounds\");"
   ]
  },
  {
   "cell_type": "markdown",
   "id": "10dff2c5",
   "metadata": {},
   "source": [
    "The plot above is showing the distribution of the total score across different programming backgrounds. When comparing the median, students with Java/C/C++/Javascript/Python background score slightly higher than students with no a background. But if we look at the range, students with no background can score as high as students with backgrounds (maximum), and students with programming background could score lower than students with no background (minimum). It's reasonable to say that having a programming background cannot guarantee a high score on the final project."
   ]
  },
  {
   "cell_type": "markdown",
   "id": "3d5f4d4c",
   "metadata": {},
   "source": [
    "Next, I will compare the average total score for students in each programming background group."
   ]
  },
  {
   "cell_type": "code",
   "execution_count": 29,
   "id": "52ca9172",
   "metadata": {},
   "outputs": [
    {
     "data": {
      "text/plain": [
       "programming_background\n",
       "Java/C/C++/Javascript    91.777778\n",
       "None                     89.910417\n",
       "Other                    90.100000\n",
       "Python                   98.875000\n",
       "Python+                  89.437500\n",
       "Name: Total Score, dtype: float64"
      ]
     },
     "execution_count": 29,
     "metadata": {},
     "output_type": "execute_result"
    }
   ],
   "source": [
    "grouped_df = df.groupby(\"programming_background\")\n",
    "mean_df = grouped_df[\"Total Score\"].mean()\n",
    "mean_df"
   ]
  },
  {
   "cell_type": "markdown",
   "id": "259b09d0",
   "metadata": {},
   "source": [
    "Although the average total score of students with python background is much higher than the other groups, this is likely due to the fact that the overall python-only population is quite small. When comparing students across various different programming backgrounds, the mean score is similar across groups."
   ]
  },
  {
   "cell_type": "markdown",
   "id": "bba2288f",
   "metadata": {},
   "source": [
    "Now, I'll specifically look into the projects which scored higher than the 75 percentile"
   ]
  },
  {
   "cell_type": "code",
   "execution_count": 30,
   "id": "97138704",
   "metadata": {},
   "outputs": [
    {
     "name": "stdout",
     "output_type": "stream",
     "text": [
      "The percentage of projects above 75 percentile done by students with no programming background: 54.54545454545454%\n"
     ]
    }
   ],
   "source": [
    "percentage = df_high_score[\"programming_background\"].value_counts()[\"None\"]/(df_high_score[\"programming_background\"].value_counts().sum()) * 100\n",
    "print(\"The percentage of projects above 75 percentile done by students with no programming background: \" + str(percentage) + \"%\")"
   ]
  },
  {
   "cell_type": "markdown",
   "id": "0404043a",
   "metadata": {},
   "source": [
    "Among the best projects, approximately 54% of them were done by students with no programming background. This reinforces the fact that students with no programming background can do well in the final project. Thus, we can say that there is no clear evidence that students with a programming background would perform better on the final project.\n",
    "# <span style='color:blue '> Insight #1: Students with a programming background before entering the class do not have an advantage on the final project. Students with no background can in fact score higher, therefore should be encouraged to complete the final project. </span>"
   ]
  },
  {
   "cell_type": "markdown",
   "id": "43140cac",
   "metadata": {},
   "source": [
    "[Jump Back to Table of Contents](#Top)"
   ]
  },
  {
   "cell_type": "markdown",
   "id": "420a080b",
   "metadata": {},
   "source": [
    "### Pre-skills <a class=\"anchor\" id=\"Pre-skills\"></a>"
   ]
  },
  {
   "cell_type": "markdown",
   "id": "f4266864",
   "metadata": {},
   "source": [
    "In the context of our survey, the pre-skills go hand in hand with the programming background. Thus, I expect that the pre-skills will not inform students' total scores on the project. The following count plot shows the number of students with each level of pre-skills."
   ]
  },
  {
   "cell_type": "code",
   "execution_count": 31,
   "id": "e1b0056e",
   "metadata": {},
   "outputs": [
    {
     "data": {
      "image/png": "[encoded data removed]",
      "text/plain": [
       "<Figure size 720x432 with 1 Axes>"
      ]
     },
     "metadata": {
      "needs_background": "light"
     },
     "output_type": "display_data"
    }
   ],
   "source": [
    "plt.figure(figsize=(10,6))\n",
    "p = sns.countplot(data=df, x=\"pre_skills\", order = df[\"pre_skills\"].value_counts().index);\n",
    "p.set_title(\"Number of Students with Each Level of Pre-skills\");"
   ]
  },
  {
   "cell_type": "markdown",
   "id": "1e875cfc",
   "metadata": {},
   "source": [
    "As shown in the count plot, similar to programming background, most students came into this course with no prior skills. One thing to notice is that there are only a few students who claimed to have a basic level of pre-skill. Next, I'll take a look into the distribution of total scores from these student groups."
   ]
  },
  {
   "cell_type": "code",
   "execution_count": 32,
   "id": "07253bd3",
   "metadata": {},
   "outputs": [
    {
     "data": {
      "image/png": "[encoded data removed]",
      "text/plain": [
       "<Figure size 720x432 with 1 Axes>"
      ]
     },
     "metadata": {
      "needs_background": "light"
     },
     "output_type": "display_data"
    }
   ],
   "source": [
    "plt.figure(figsize=(10,6))\n",
    "p = sns.boxplot(data=df, x=\"Total Score\", y=\"pre_skills\", order=[\"None\", \"Basic\", \"Intermediate\", \"Advanced\"]);\n",
    "p.set_title(\"Comparison of Total Score Across Student Groups with Different Levels of Pre-skills\");"
   ]
  },
  {
   "cell_type": "markdown",
   "id": "cef5d720",
   "metadata": {},
   "source": [
    "The plot above shows the distribution of total scores across student groups with different levels of pre-skills. There are several things worth noting:\n",
    "- When it comes to the maximum, students with no pre-skills can score as high  as students with intermediate pre-skills. \n",
    "- When it comes to the minimum, some students who claimed to have advanced pre-skills performed worse than all other groups (excluding the outliers). \n",
    "- When comparing the medians, students with pre-skills performed slightly better than students with no pre-skills. But the difference is minimal.\n",
    "- Students who claimed to have advanced level of pre-skills performed very differently among themselves. This is likely due to the fact that the pre-skills were self-reported.\n",
    "- No conclusion can be made upon the basic pre-skill group since the population is way too small.\n",
    "\n",
    "With these five points in mind, I'll look into the pre-skill individually to see how they differ in terms of their impact."
   ]
  },
  {
   "cell_type": "code",
   "execution_count": 33,
   "id": "1085eac9",
   "metadata": {
    "code_folding": [],
    "scrolled": false
   },
   "outputs": [
    {
     "data": {
      "image/png": "[encoded data removed]",
      "text/plain": [
       "<Figure size 1440x1152 with 6 Axes>"
      ]
     },
     "metadata": {
      "needs_background": "light"
     },
     "output_type": "display_data"
    }
   ],
   "source": [
    "# individual boxplots \n",
    "plt.figure(figsize=(20,16))\n",
    "plt.subplot(2,3,1)\n",
    "p = sns.boxplot(data=df, y=\"Total Score\", x=\"Describe and implement best practices in Python, keeping in mind that programming is done by and for humans\");\n",
    "p.set_title(\"Describe and implement best practices...\")\n",
    "p.set(xlabel=None)\n",
    "plt.subplot(2,3,2)\n",
    "p = sns.boxplot(data=df, y=\"Total Score\", x=\"Program at an introductory level in the Python programming language\");\n",
    "p.set_title(\"Program at an introductory level...\")\n",
    "p.set(xlabel=None)\n",
    "plt.subplot(2,3,3)\n",
    "p = sns.boxplot(data=df, y=\"Total Score\", x=\"Solve basic problems using programmatic solutions\");\n",
    "p.set_title(\"Solve basic problems...\")\n",
    "p.set(xlabel=None);\n",
    "plt.subplot(2,3,4)\n",
    "p = sns.boxplot(data=df, y=\"Total Score\", x=\"Write and debug small Python programs\");\n",
    "p.set_title(\"Write and debug...\")\n",
    "p.set(xlabel=None)\n",
    "plt.subplot(2,3,5)\n",
    "p = sns.boxplot(data=df, y=\"Total Score\", x=\"Read basic Python programs, recognizing the structures they use and be able to explain how they work\");\n",
    "p.set_title(\"Read basic Python programs...\")\n",
    "p.set(xlabel=None)\n",
    "plt.subplot(2,3,6)\n",
    "p = sns.boxplot(data=df, y=\"Total Score\", x=\"Execute Python programs on your local computer, using notebooks and the command line\");\n",
    "p.set_title(\"Execute Python programs...\")\n",
    "p.set(xlabel=None);\n"
   ]
  },
  {
   "cell_type": "markdown",
   "id": "e00462e8",
   "metadata": {},
   "source": [
    "When comparing students with (1) or without (0) these pre-skills (min, max, median, percentiles), we can see that:\n",
    "- Program at an introductory level..., Write and debug..., and Execute Python programs... are the pre-skills that made a difference when it comes to the total score. Although the maximums are very much the same, these three pre-skills led to a minimum total score above 85.  \n",
    "- In comparison, the other pre-skills did not make any significant difference.\n",
    "\n",
    "Note that these boxplots represent the students with at least one pre-skill. Next, I will compare the average total score of students with at least one pre-skill and no pre-skills to conclude this part of exploration."
   ]
  },
  {
   "cell_type": "code",
   "execution_count": 34,
   "id": "2fe9659a",
   "metadata": {},
   "outputs": [
    {
     "name": "stdout",
     "output_type": "stream",
     "text": [
      "The average total score among students with no pre-skills is 90.314\n",
      "The average total score among students with at least one pre-skill is 90.66666666666667\n"
     ]
    }
   ],
   "source": [
    "mean_w_pre_skills = df[df[\"pre_skills\"]!=\"None\"][\"Total Score\"].sum() / len(df[df[\"pre_skills\"]!=\"None\"])\n",
    "mean_no_pre_skills = df[df[\"pre_skills\"]==\"None\"][\"Total Score\"].sum() / len(df[df[\"pre_skills\"]==\"None\"])\n",
    "\n",
    "print(\"The average total score among students with no pre-skills is \" + str(mean_no_pre_skills))\n",
    "print(\"The average total score among students with at least one pre-skill is \" + str(mean_w_pre_skills))"
   ]
  },
  {
   "cell_type": "markdown",
   "id": "927903b7",
   "metadata": {},
   "source": [
    "From the means, we can see that the impact on the total score of having any pre-skills is practically negligible. Last but not least, I'll take a look at the well-performing project."
   ]
  },
  {
   "cell_type": "code",
   "execution_count": 35,
   "id": "b258e55a",
   "metadata": {},
   "outputs": [
    {
     "name": "stdout",
     "output_type": "stream",
     "text": [
      "The percentage of projects above 75 percentile done by students with no pre-skills: 66.66666666666666%\n"
     ]
    }
   ],
   "source": [
    "percentage = df_high_score[\"pre_skills\"].value_counts()[\"None\"]/(df_high_score[\"pre_skills\"].value_counts().sum()) * 100\n",
    "print(\"The percentage of projects above 75 percentile done by students with no pre-skills: \" + str(percentage) + \"%\")"
   ]
  },
  {
   "cell_type": "markdown",
   "id": "0db82aea",
   "metadata": {},
   "source": [
    "More than half of the best-performing final projects were done by students with no pre-skills. Gathering all the information we have regarding pre-skills and total scores, it is reasonable to say that there is no clear evidence that students who entered the class with more pre-skills would perform better on the final project.\n",
    "# <span style='color:blue '> Insight #2: Students who already have programming skills before entering this class are not guaranteed to perform better on the final project. Among the skills, knowing how to \"Program at an introductory level in the Python programming language\", \"Write and debug small Python programs\", and \"Read basic Python programs, recognizing the structures they use and be able to explain how they work\" can be helpful, and students can definitely acquire these skills throughout the class.</span>"
   ]
  },
  {
   "cell_type": "markdown",
   "id": "c67c3ea6",
   "metadata": {},
   "source": [
    "[Jump Back to Table of Contents](#Top)"
   ]
  },
  {
   "cell_type": "markdown",
   "id": "59e33f1e",
   "metadata": {},
   "source": [
    "### Length (lines of code) <a class=\"anchor\" id=\"Length\"></a>"
   ]
  },
  {
   "cell_type": "markdown",
   "id": "ddec5691",
   "metadata": {},
   "source": [
    "In this section, I'll explore the relationship between the length of projects and total scores. First, I'll take a look at the distribution of lines of code included in the students' projects."
   ]
  },
  {
   "cell_type": "code",
   "execution_count": 36,
   "id": "31e0a87d",
   "metadata": {
    "scrolled": true
   },
   "outputs": [
    {
     "data": {
      "image/png": "[encoded data removed]",
      "text/plain": [
       "<Figure size 1440x432 with 2 Axes>"
      ]
     },
     "metadata": {
      "needs_background": "light"
     },
     "output_type": "display_data"
    }
   ],
   "source": [
    "plt.figure(figsize=(20,6))\n",
    "plt.subplot(1,2,1)\n",
    "p = sns.histplot(df[\"lines_code\"], kde=True);\n",
    "p.set_title(\"Distribution of Lines of Code (1/2)\");\n",
    "plt.subplot(1,2,2)\n",
    "p = sns.boxplot(data=df, x=\"lines_code\");\n",
    "p.set_title(\"Distribution of Lines of Code (2/2)\");"
   ]
  },
  {
   "cell_type": "markdown",
   "id": "b59bae89",
   "metadata": {},
   "source": [
    "According to the histogram, there is a significant cluster around 30-150 lines of code, with a long right tail reaching up to 600 lines of code. Looking at the box plot, the interquartile range is also around 40-120 lines of code. These graphs indicate that most of the projects, regardless of their total score, are similar in length to each other. Next, I will try to see the correlation between lines of code and total scores."
   ]
  },
  {
   "cell_type": "code",
   "execution_count": 37,
   "id": "cd891d51",
   "metadata": {},
   "outputs": [
    {
     "data": {
      "image/png": "[encoded data removed]",
      "text/plain": [
       "<Figure size 360x360 with 1 Axes>"
      ]
     },
     "metadata": {
      "needs_background": "light"
     },
     "output_type": "display_data"
    }
   ],
   "source": [
    "p = sns.relplot(data=df, x=\"lines_code\", y=\"Total Score\").set(title = \"Lines of Code VS Total Scores\");"
   ]
  },
  {
   "cell_type": "markdown",
   "id": "f5ef88a1",
   "metadata": {},
   "source": [
    "Reflecting to the distribution above, we can see that most of the data points are clustered in terms of lines of code, while the total scores are distributed unaffected. Clearly, there is no linear correlation between lines of code and total score. To further support this assertion, I will look specifically at those exceptionally long projects."
   ]
  },
  {
   "cell_type": "code",
   "execution_count": 38,
   "id": "13028530",
   "metadata": {},
   "outputs": [
    {
     "data": {
      "text/plain": [
       "15      67.0\n",
       "38      95.0\n",
       "43      98.5\n",
       "50      89.5\n",
       "62     103.0\n",
       "131     86.5\n",
       "134     61.5\n",
       "Name: Total Score, dtype: float64"
      ]
     },
     "execution_count": 38,
     "metadata": {},
     "output_type": "execute_result"
    }
   ],
   "source": [
    "df_long = df[df[\"lines_code\"]>=300]\n",
    "df_long[\"Total Score\"]"
   ]
  },
  {
   "cell_type": "markdown",
   "id": "3ba311c4",
   "metadata": {},
   "source": [
    "From these data points, we can see that longer projects do not necessarily lead to better scores. Next, I'll look into lines of code of the best projects. I will compare the medians to reduce the effect of outliers."
   ]
  },
  {
   "cell_type": "code",
   "execution_count": 39,
   "id": "caaa8962",
   "metadata": {},
   "outputs": [
    {
     "name": "stdout",
     "output_type": "stream",
     "text": [
      "The median of the lines of code among the projects with high scores is 88.0\n",
      "The median of the lines of code among other projects is 80.0\n"
     ]
    }
   ],
   "source": [
    "lines_code_median_high = df_high_score[\"lines_code\"].median()\n",
    "lines_code_median_the_rest = df_rest[\"lines_code\"].median()\n",
    "\n",
    "print(\"The median of the lines of code among the projects with high scores is \" + str(lines_code_median_high))\n",
    "print(\"The median of the lines of code among other projects is \" + str(lines_code_median_the_rest))"
   ]
  },
  {
   "cell_type": "markdown",
   "id": "36217920",
   "metadata": {},
   "source": [
    "Considering Python's syntax, 8 lines of code cannot make a significant difference when it comes to the quality of a project. This comparison indicates that the lengths of well-performing projects and other projects are practically the same."
   ]
  },
  {
   "cell_type": "code",
   "execution_count": 40,
   "id": "bc660549",
   "metadata": {},
   "outputs": [
    {
     "data": {
      "text/plain": [
       "count     33.000000\n",
       "mean     102.909091\n",
       "std       66.781998\n",
       "min       29.000000\n",
       "25%       53.000000\n",
       "50%       88.000000\n",
       "75%      140.000000\n",
       "max      341.000000\n",
       "Name: lines_code, dtype: float64"
      ]
     },
     "execution_count": 40,
     "metadata": {},
     "output_type": "execute_result"
    }
   ],
   "source": [
    "df_high_score[\"lines_code\"].describe()"
   ]
  },
  {
   "cell_type": "markdown",
   "id": "cc55f9eb",
   "metadata": {},
   "source": [
    "In conclusion, we can gain some insights by assessing these high-score projects.\n",
    "\n",
    "# <span style='color:blue '> Insight #3: It is a misconception that longer projects would receive higher scores. Students should aim for better quality rather than longer length. A typical good project has approximately 50 to 140 lines of code.</span>"
   ]
  },
  {
   "cell_type": "markdown",
   "id": "f386347e",
   "metadata": {},
   "source": [
    "[Jump Back to Table of Contents](#Top)"
   ]
  },
  {
   "cell_type": "markdown",
   "id": "13867f69",
   "metadata": {},
   "source": [
    "### Code documentation (comments) <a class=\"anchor\" id=\"Code_documentation\"></a>"
   ]
  },
  {
   "cell_type": "markdown",
   "id": "c42d13aa",
   "metadata": {},
   "source": [
    "In this section, I'll explore the relation between code documentation and total scores. First, I'll take a look at the distribution of lines of comments."
   ]
  },
  {
   "cell_type": "code",
   "execution_count": 41,
   "id": "6efa02e6",
   "metadata": {},
   "outputs": [
    {
     "data": {
      "image/png": "[encoded data removed]",
      "text/plain": [
       "<Figure size 1440x432 with 2 Axes>"
      ]
     },
     "metadata": {
      "needs_background": "light"
     },
     "output_type": "display_data"
    }
   ],
   "source": [
    "plt.figure(figsize=(20,6))\n",
    "plt.subplot(1,2,1)\n",
    "p = sns.histplot(df[\"lines_comments\"], kde=True);\n",
    "p.set_title(\"Distribution of Lines of Comments (1/2)\");\n",
    "plt.subplot(1,2,2)\n",
    "p = sns.boxplot(data=df, x=\"lines_comments\");\n",
    "p.set_title(\"Distribution of Lines of Comments (2/2)\");"
   ]
  },
  {
   "cell_type": "markdown",
   "id": "559b5e6d",
   "metadata": {},
   "source": [
    "The distribution of lines of comments is very similar to lines of code. From the histogram, we can see that most projects have around 50 lines of comments. The boxplot also indicates a similar distribution to lines of code. Referring back to the heatmap, the correlation coefficient bewteen lines of comments and total scores is around 0.4, which is a potential weak correlation. A scatterplot could capture this correlation."
   ]
  },
  {
   "cell_type": "code",
   "execution_count": 42,
   "id": "28adb080",
   "metadata": {},
   "outputs": [
    {
     "data": {
      "image/png": "[encoded data removed]",
      "text/plain": [
       "<Figure size 720x432 with 1 Axes>"
      ]
     },
     "metadata": {
      "needs_background": "light"
     },
     "output_type": "display_data"
    }
   ],
   "source": [
    "plt.figure(figsize=(10,6))\n",
    "p = sns.regplot(data=df, x=\"lines_comments\", y=\"Total Score\").set(title = \"Lines of Comments VS Total Scores\");"
   ]
  },
  {
   "cell_type": "markdown",
   "id": "cc0df5a1",
   "metadata": {},
   "source": [
    "The visualization of the regression model does indicate a weak linear correlation. Next, I'll specifically look into those well-performing projects and see if their code documentations differ from the rest."
   ]
  },
  {
   "cell_type": "code",
   "execution_count": 43,
   "id": "f4852c16",
   "metadata": {},
   "outputs": [
    {
     "name": "stdout",
     "output_type": "stream",
     "text": [
      "The median of the lines of comments among the projects with high scores is 72.0\n",
      "The median of the lines of comments among other projects is 41.0\n"
     ]
    }
   ],
   "source": [
    "lines_comments_median_high = df_high_score[\"lines_comments\"].median()\n",
    "lines_comments_median_the_rest = df_rest[\"lines_comments\"].median()\n",
    "\n",
    "print(\"The median of the lines of comments among the projects with high scores is \" + str(lines_comments_median_high))\n",
    "print(\"The median of the lines of comments among other projects is \" + str(lines_comments_median_the_rest))"
   ]
  },
  {
   "cell_type": "markdown",
   "id": "421aecf4",
   "metadata": {},
   "source": [
    "As shown above, there is a large difference between the medians of high-score projects and the rest of projects. Although the linear correlation is somewhwat weak, it is reasonable to say that projects with high scores tend to have longer code documentation. In addition, we can gain some insights by assessing these high-score projects."
   ]
  },
  {
   "cell_type": "code",
   "execution_count": 44,
   "id": "007e51e8",
   "metadata": {},
   "outputs": [
    {
     "data": {
      "text/plain": [
       "count     33.000000\n",
       "mean      92.878788\n",
       "std       47.769471\n",
       "min       39.000000\n",
       "25%       56.000000\n",
       "50%       72.000000\n",
       "75%      133.000000\n",
       "max      202.000000\n",
       "Name: lines_comments, dtype: float64"
      ]
     },
     "execution_count": 44,
     "metadata": {},
     "output_type": "execute_result"
    }
   ],
   "source": [
    "df_high_score[\"lines_comments\"].describe()"
   ]
  },
  {
   "cell_type": "markdown",
   "id": "9cfac045",
   "metadata": {},
   "source": [
    "Code to comment ratios among the high-score projects are also worth to take a look."
   ]
  },
  {
   "cell_type": "code",
   "execution_count": 45,
   "id": "401c9266",
   "metadata": {},
   "outputs": [
    {
     "data": {
      "text/plain": [
       "count    33.000000\n",
       "mean      1.094167\n",
       "std       0.467507\n",
       "min       0.263682\n",
       "25%       0.835821\n",
       "50%       1.200000\n",
       "75%       1.364865\n",
       "max       1.967742\n",
       "Name: code_comments_ratio, dtype: float64"
      ]
     },
     "execution_count": 45,
     "metadata": {},
     "output_type": "execute_result"
    }
   ],
   "source": [
    "df_high_score = df_high_score.copy()\n",
    "df_high_score['code_comments_ratio'] = (df_high_score[\"lines_comments\"] / df_high_score[\"lines_code\"])\n",
    "df_high_score['code_comments_ratio'].describe()"
   ]
  },
  {
   "cell_type": "markdown",
   "id": "a6412202",
   "metadata": {},
   "source": [
    "As shown above, among the projects with high scores, the code to comments ratio is approximately 1:1."
   ]
  },
  {
   "cell_type": "markdown",
   "id": "326036b1",
   "metadata": {},
   "source": [
    "# <span style='color:blue '> Insight #4: Documenting code is part of writing good code. In the scope of this course, projects with high scores tend to have more code documentation. A typical well-performing project has around 60 to 130 lines of comments, on par with lines of code.</span>"
   ]
  },
  {
   "cell_type": "markdown",
   "id": "b184af3d",
   "metadata": {},
   "source": [
    "[Jump Back to Table of Contents](#Top)"
   ]
  },
  {
   "cell_type": "markdown",
   "id": "6851a5cd",
   "metadata": {},
   "source": [
    "### Imports <a class=\"anchor\" id=\"Imports\"></a>"
   ]
  },
  {
   "cell_type": "markdown",
   "id": "92285169",
   "metadata": {},
   "source": [
    "Since COGS18 is an introductory course and there's no requirement for specific imports on the final project, I don't expect imports to have an influence on the total scores. As shown in the heatmap, the correlation coefficient between total score and number of imports is 0.12, indicating that the correlation is minimal. So instead I'll look into the most popular imports to give students an idea of what packages they could use in their final projects."
   ]
  },
  {
   "cell_type": "code",
   "execution_count": 46,
   "id": "ca68e7a9",
   "metadata": {},
   "outputs": [],
   "source": [
    "def to_1D(series):\n",
    "    return pd.Series([x for _list in series for x in _list])\n",
    "\n",
    "top_10_imports = to_1D(df[\"imports\"]).value_counts()[2:12]"
   ]
  },
  {
   "cell_type": "code",
   "execution_count": 47,
   "id": "cfd29276",
   "metadata": {
    "code_folding": [],
    "scrolled": false
   },
   "outputs": [
    {
     "data": {
      "image/png": "[encoded data removed]",
      "text/plain": [
       "<Figure size 1440x432 with 1 Axes>"
      ]
     },
     "metadata": {
      "needs_background": "light"
     },
     "output_type": "display_data"
    }
   ],
   "source": [
    "fig, ax = plt.subplots(figsize = (20,6))\n",
    "ax.bar(top_10_imports.index, top_10_imports.values)\n",
    "ax.set_ylabel(\"Frequency\", size = 12)\n",
    "ax.set_title(\"Top 10 Imports\", size = 14);"
   ]
  },
  {
   "cell_type": "markdown",
   "id": "2a340aa7",
   "metadata": {},
   "source": [
    "As shown in the graph, the most popular packages to import among all the projects are random, time, pandas, numpy, IPython.display, string, matplotlib.pyplot, math, and datetime. Next, I'll take at look at projects with higher scores to see if there was any difference."
   ]
  },
  {
   "cell_type": "code",
   "execution_count": 48,
   "id": "57ce9c96",
   "metadata": {},
   "outputs": [
    {
     "data": {
      "image/png": "[encoded data removed]",
      "text/plain": [
       "<Figure size 1440x432 with 1 Axes>"
      ]
     },
     "metadata": {
      "needs_background": "light"
     },
     "output_type": "display_data"
    }
   ],
   "source": [
    "imports_high_score = to_1D(df_high_score[\"imports\"]).value_counts()[2:12]\n",
    "fig, ax = plt.subplots(figsize = (20,6))\n",
    "ax.bar(imports_high_score.index, imports_high_score.values)\n",
    "ax.set_ylabel(\"Frequency\", size = 12)\n",
    "ax.set_title(\"Top 10 Imports\", size = 14);"
   ]
  },
  {
   "cell_type": "markdown",
   "id": "4cad5db5",
   "metadata": {},
   "source": [
    "The packages are pretty much the same, except that proportionaly speaking more projects imported data science related packages like pandas, numpy, matplotlib.pyplot, or csv. Next, I'll compare the distribution of total scores across projects with no imports and projects with at least one import."
   ]
  },
  {
   "cell_type": "code",
   "execution_count": 49,
   "id": "c9dcc6b9",
   "metadata": {},
   "outputs": [
    {
     "data": {
      "image/png": "[encoded data removed]",
      "text/plain": [
       "<Figure size 720x432 with 1 Axes>"
      ]
     },
     "metadata": {
      "needs_background": "light"
     },
     "output_type": "display_data"
    }
   ],
   "source": [
    "df['imports_status'] = np.where(df['num_imports']>0, \"At least one\", \"None\")\n",
    "plt.figure(figsize=(10,6))\n",
    "p = sns.boxplot(data=df, x=\"Total Score\", y=\"imports_status\");"
   ]
  },
  {
   "cell_type": "markdown",
   "id": "2093090a",
   "metadata": {},
   "source": [
    "As shown in the box plot, it is reasonable to say that the number of imports the projects have no significant impact on the total scores.\n",
    "# <span style='color:blue '> Insight #5: It is optional for students to import external packages in their final projects. Some of the most popular packages students tend to import are random, time, pandas, numpy, IPython.display, string, matplotlib.pyplot, math, and datetime.</span>"
   ]
  },
  {
   "cell_type": "markdown",
   "id": "5637c268",
   "metadata": {},
   "source": [
    "[Jump Back to Table of Contents](#Top)"
   ]
  },
  {
   "cell_type": "markdown",
   "id": "f00713bd",
   "metadata": {},
   "source": [
    "### Complexity (functions, classes, logics, loops) <a class=\"anchor\" id=\"Complexity\"></a>"
   ]
  },
  {
   "cell_type": "markdown",
   "id": "5400ca2c",
   "metadata": {},
   "source": [
    "To begin with, I'll look into distributions of these four variables."
   ]
  },
  {
   "cell_type": "code",
   "execution_count": 50,
   "id": "dd49af2f",
   "metadata": {
    "code_folding": []
   },
   "outputs": [
    {
     "data": {
      "image/png": "[encoded data removed]",
      "text/plain": [
       "<Figure size 1440x432 with 2 Axes>"
      ]
     },
     "metadata": {
      "needs_background": "light"
     },
     "output_type": "display_data"
    }
   ],
   "source": [
    "# Distribution of number of functions and classes\n",
    "plt.figure(figsize=(20,6))\n",
    "plt.subplot(1,2,1)\n",
    "p = sns.histplot(df[\"num_functions\"], kde=True);\n",
    "p.set_title(\"Distribution of Number of Functions\");\n",
    "plt.subplot(1,2,2)\n",
    "p = sns.histplot(df[\"num_classes\"], kde=True);\n",
    "p.set_title(\"Distribution of Number of Classes\");"
   ]
  },
  {
   "cell_type": "markdown",
   "id": "9a15cc8c",
   "metadata": {},
   "source": [
    "As shown in the histograms, most projects contain around five functions and zero classes. This make sense as class is directly related to object-oriented programming, which, while introduced, is not the main focus of this introductory course. "
   ]
  },
  {
   "cell_type": "code",
   "execution_count": 51,
   "id": "3edb4adb",
   "metadata": {},
   "outputs": [
    {
     "data": {
      "image/png": "[encoded data removed]",
      "text/plain": [
       "<Figure size 1440x432 with 2 Axes>"
      ]
     },
     "metadata": {
      "needs_background": "light"
     },
     "output_type": "display_data"
    }
   ],
   "source": [
    "# Distribution of number of if/else statements and loops\n",
    "plt.figure(figsize=(20,6))\n",
    "plt.subplot(1,2,1)\n",
    "p = sns.histplot(df[\"num_logic\"], kde=True);\n",
    "p.set_title(\"Distribution of Number of if/else Statements \");\n",
    "plt.subplot(1,2,2)\n",
    "p = sns.histplot(df[\"num_loops\"], kde=True);\n",
    "p.set_title(\"Distribution of Number of Loops\");"
   ]
  },
  {
   "cell_type": "markdown",
   "id": "1cc00f19",
   "metadata": {},
   "source": [
    "Most projects have no if/else statements or loops. This is also reasonable considering that it is an introductory course. While most projects have similar levels of complexity, I expect that these variable wouldn't significantly influence total scores. The following box plots would present the distributions of total scores across projects that have at least one function, class, logic, and loop and projects with none of them."
   ]
  },
  {
   "cell_type": "code",
   "execution_count": 52,
   "id": "1337b1ac",
   "metadata": {},
   "outputs": [],
   "source": [
    "df['function'] = np.where(df['num_functions']>0, \"At least one\", \"None\")\n",
    "df['class'] = np.where(df['num_classes']>0, \"At least one\", \"None\")\n",
    "df['if/else'] = np.where(df['num_logic']>0, \"At least one\", \"None\")\n",
    "df['loop'] = np.where(df['num_loops']>0, \"At least one\", \"None\")"
   ]
  },
  {
   "cell_type": "code",
   "execution_count": 53,
   "id": "bed3fd3d",
   "metadata": {},
   "outputs": [
    {
     "data": {
      "image/png": "[encoded data removed]",
      "text/plain": [
       "<Figure size 1440x432 with 2 Axes>"
      ]
     },
     "metadata": {
      "needs_background": "light"
     },
     "output_type": "display_data"
    }
   ],
   "source": [
    "plt.figure(figsize=(20,6))\n",
    "plt.subplot(1,2,1)\n",
    "p = sns.boxplot(data=df, x=\"Total Score\", y='function')\n",
    "p.set_title(\"Functions\")\n",
    "plt.subplot(1,2,2)\n",
    "p = sns.boxplot(data=df, x=\"Total Score\", y='class')\n",
    "p.set_title(\"Classes\");"
   ]
  },
  {
   "cell_type": "markdown",
   "id": "b68ea3c7",
   "metadata": {},
   "source": [
    "From the box plot on the left, we can see that all projects have at least one function. From the boxplot on the right, we can see that in terms of the ranges and percentiles, projects with at least one class scored very similarly to projects with none, which indicates that the number of classes a project contains doesn't significantly affect its total score."
   ]
  },
  {
   "cell_type": "code",
   "execution_count": 54,
   "id": "ca716ccb",
   "metadata": {},
   "outputs": [
    {
     "data": {
      "image/png": "[encoded data removed]",
      "text/plain": [
       "<Figure size 1440x432 with 2 Axes>"
      ]
     },
     "metadata": {
      "needs_background": "light"
     },
     "output_type": "display_data"
    }
   ],
   "source": [
    "plt.figure(figsize=(20,6))\n",
    "plt.subplot(1,2,1)\n",
    "p = sns.boxplot(data=df, x=\"Total Score\", y='if/else')\n",
    "p.set_title(\"if/else Statements\")\n",
    "plt.subplot(1,2,2)\n",
    "p = sns.boxplot(data=df, x=\"Total Score\", y='loop')\n",
    "p.set_title(\"Loops\");"
   ]
  },
  {
   "cell_type": "markdown",
   "id": "5b719ef0",
   "metadata": {},
   "source": [
    "On the other hand, the number of if/else statements and loops does seem to affect total scores. Disregarding the outliers, the median total score of projects with at least one if/else statement is much higher than the median with none. And for loops, the difference of medians is not as significant, but the difference of the minimums and 25% percentiles still indicate a solid impact. Finally, I'll look into the high-score projects to gain more insights."
   ]
  },
  {
   "cell_type": "code",
   "execution_count": 55,
   "id": "d3c1d43a",
   "metadata": {},
   "outputs": [
    {
     "data": {
      "text/html": [
       "<div>\n",
       "<style scoped>\n",
       "    .dataframe tbody tr th:only-of-type {\n",
       "        vertical-align: middle;\n",
       "    }\n",
       "\n",
       "    .dataframe tbody tr th {\n",
       "        vertical-align: top;\n",
       "    }\n",
       "\n",
       "    .dataframe thead th {\n",
       "        text-align: right;\n",
       "    }\n",
       "</style>\n",
       "<table border=\"1\" class=\"dataframe\">\n",
       "  <thead>\n",
       "    <tr style=\"text-align: right;\">\n",
       "      <th></th>\n",
       "      <th>num_functions</th>\n",
       "      <th>num_classes</th>\n",
       "      <th>num_logic</th>\n",
       "      <th>num_loops</th>\n",
       "    </tr>\n",
       "  </thead>\n",
       "  <tbody>\n",
       "    <tr>\n",
       "      <th>count</th>\n",
       "      <td>33.000000</td>\n",
       "      <td>33.000000</td>\n",
       "      <td>33.000000</td>\n",
       "      <td>33.000000</td>\n",
       "    </tr>\n",
       "    <tr>\n",
       "      <th>mean</th>\n",
       "      <td>7.030303</td>\n",
       "      <td>0.484848</td>\n",
       "      <td>5.969697</td>\n",
       "      <td>3.909091</td>\n",
       "    </tr>\n",
       "    <tr>\n",
       "      <th>std</th>\n",
       "      <td>3.404821</td>\n",
       "      <td>0.667140</td>\n",
       "      <td>5.531076</td>\n",
       "      <td>8.133125</td>\n",
       "    </tr>\n",
       "    <tr>\n",
       "      <th>min</th>\n",
       "      <td>3.000000</td>\n",
       "      <td>0.000000</td>\n",
       "      <td>0.000000</td>\n",
       "      <td>0.000000</td>\n",
       "    </tr>\n",
       "    <tr>\n",
       "      <th>25%</th>\n",
       "      <td>5.000000</td>\n",
       "      <td>0.000000</td>\n",
       "      <td>1.000000</td>\n",
       "      <td>1.000000</td>\n",
       "    </tr>\n",
       "    <tr>\n",
       "      <th>50%</th>\n",
       "      <td>6.000000</td>\n",
       "      <td>0.000000</td>\n",
       "      <td>5.000000</td>\n",
       "      <td>2.000000</td>\n",
       "    </tr>\n",
       "    <tr>\n",
       "      <th>75%</th>\n",
       "      <td>9.000000</td>\n",
       "      <td>1.000000</td>\n",
       "      <td>9.000000</td>\n",
       "      <td>4.000000</td>\n",
       "    </tr>\n",
       "    <tr>\n",
       "      <th>max</th>\n",
       "      <td>15.000000</td>\n",
       "      <td>2.000000</td>\n",
       "      <td>20.000000</td>\n",
       "      <td>47.000000</td>\n",
       "    </tr>\n",
       "  </tbody>\n",
       "</table>\n",
       "</div>"
      ],
      "text/plain": [
       "       num_functions  num_classes  num_logic  num_loops\n",
       "count      33.000000    33.000000  33.000000  33.000000\n",
       "mean        7.030303     0.484848   5.969697   3.909091\n",
       "std         3.404821     0.667140   5.531076   8.133125\n",
       "min         3.000000     0.000000   0.000000   0.000000\n",
       "25%         5.000000     0.000000   1.000000   1.000000\n",
       "50%         6.000000     0.000000   5.000000   2.000000\n",
       "75%         9.000000     1.000000   9.000000   4.000000\n",
       "max        15.000000     2.000000  20.000000  47.000000"
      ]
     },
     "execution_count": 55,
     "metadata": {},
     "output_type": "execute_result"
    }
   ],
   "source": [
    "df_high_score[[\"num_functions\", \"num_classes\", \"num_logic\", \"num_loops\"]].describe()"
   ]
  },
  {
   "cell_type": "markdown",
   "id": "1d53406a",
   "metadata": {},
   "source": [
    "# <span style='color:blue '> Insight #6: All final projects should have some functions to increase code clarity and readability. It is optional to include classes. Students should be encouraged to use if/else statements and loops in their projects. A typical well-performing project has around 5 to 9 functions, 1 to 9 if/else statements, and 1 to 4 for/while loops.</span>"
   ]
  },
  {
   "cell_type": "markdown",
   "id": "080d2da7",
   "metadata": {},
   "source": [
    "[Jump Back to Table of Contents](#Top)"
   ]
  },
  {
   "cell_type": "markdown",
   "id": "b08256c9",
   "metadata": {},
   "source": [
    "### Tests <a class=\"anchor\" id=\"Tests\"></a>"
   ]
  },
  {
   "cell_type": "markdown",
   "id": "a208d9ff",
   "metadata": {},
   "source": [
    "Test functions are also required as part of the final projects. A minimum of three test functions is required on the rubric, so I expect that projects with less than three test functions would have lower scores, and all other projects would remain unaffected."
   ]
  },
  {
   "cell_type": "code",
   "execution_count": 56,
   "id": "31c782a0",
   "metadata": {},
   "outputs": [
    {
     "data": {
      "image/png": "[encoded data removed]",
      "text/plain": [
       "<Figure size 1440x432 with 2 Axes>"
      ]
     },
     "metadata": {
      "needs_background": "light"
     },
     "output_type": "display_data"
    }
   ],
   "source": [
    "plt.figure(figsize=(20,6))\n",
    "plt.subplot(1,2,1)\n",
    "p = sns.histplot(df[\"num_tests\"], kde=True);\n",
    "p.set_title(\"Distribution of Number of Test Functions (1/2)\");\n",
    "plt.subplot(1,2,2)\n",
    "p = sns.boxplot(data=df, x=\"num_tests\");\n",
    "p.set_title(\"Distribution of Number of Test Functions (2/2)\");"
   ]
  },
  {
   "cell_type": "markdown",
   "id": "7e53e918",
   "metadata": {},
   "source": [
    "As I expected, based on the distribution, most projects have three test cases. Next, I'll compare the distribution of total scores of projects with three or more test cases and projects with less test cases to see the actual impact."
   ]
  },
  {
   "cell_type": "code",
   "execution_count": 57,
   "id": "93567a1e",
   "metadata": {},
   "outputs": [
    {
     "data": {
      "image/png": "[encoded data removed]",
      "text/plain": [
       "<Figure size 720x432 with 1 Axes>"
      ]
     },
     "metadata": {
      "needs_background": "light"
     },
     "output_type": "display_data"
    }
   ],
   "source": [
    "df['three_or_more_tests'] = np.where(df['num_tests']>=3, \"At least three\", \"None\")\n",
    "plt.figure(figsize=(10,6))\n",
    "p = sns.boxplot(data=df, x=\"Total Score\", y='three_or_more_tests')\n",
    "p.set_title(\"Tests\");"
   ]
  },
  {
   "cell_type": "markdown",
   "id": "8aa7a32d",
   "metadata": {},
   "source": [
    "As shown in the box plot, it is obvious that projects with at least three test cases scored significantly higher. \n",
    "# <span style='color:blue '> Insight #7: Students should have at least three test cases in their projects. It is part of the requirement and could directly affect the total score.</span>"
   ]
  },
  {
   "cell_type": "markdown",
   "id": "012086af",
   "metadata": {},
   "source": [
    "[Jump Back to Table of Contents](#Top)"
   ]
  },
  {
   "cell_type": "markdown",
   "id": "135143b5",
   "metadata": {},
   "source": [
    "### Instructors <a class=\"anchor\" id=\"Instructors\"></a>"
   ]
  },
  {
   "cell_type": "markdown",
   "id": "e3280dd8",
   "metadata": {},
   "source": [
    "To conclude EDA, I'll take a look at total scores given by different instructors to see if the grading standard is consistent."
   ]
  },
  {
   "cell_type": "code",
   "execution_count": 58,
   "id": "5719b454",
   "metadata": {},
   "outputs": [
    {
     "name": "stdout",
     "output_type": "stream",
     "text": [
      "count     44.000000\n",
      "mean      91.725000\n",
      "std       11.789316\n",
      "min       56.000000\n",
      "25%       90.000000\n",
      "50%       95.750000\n",
      "75%       98.625000\n",
      "max      103.500000\n",
      "Name: Total Score, dtype: float64\n"
     ]
    }
   ],
   "source": [
    "df_Ellis = df[df[\"instructor\"]==\"Ellis\"]\n",
    "print(df_Ellis[\"Total Score\"].describe())"
   ]
  },
  {
   "cell_type": "code",
   "execution_count": 59,
   "id": "0d935b49",
   "metadata": {},
   "outputs": [
    {
     "data": {
      "text/plain": [
       "count     92.000000\n",
       "mean      89.777174\n",
       "std       11.243402\n",
       "min       58.000000\n",
       "25%       85.875000\n",
       "50%       92.250000\n",
       "75%       98.125000\n",
       "max      104.000000\n",
       "Name: Total Score, dtype: float64"
      ]
     },
     "execution_count": 59,
     "metadata": {},
     "output_type": "execute_result"
    }
   ],
   "source": [
    "df_Bardolph = df[df[\"instructor\"]==\"Bardolph\"]\n",
    "df_Bardolph[\"Total Score\"].describe()"
   ]
  },
  {
   "cell_type": "markdown",
   "id": "9186c43d",
   "metadata": {},
   "source": [
    "Overall, the average total score given by professor Ellis is slightly higher; this could be due to the fact that there are fewer data points from professor Ellis in the dataset, as the overall distribution of scores is quite similar between professors (see below). "
   ]
  },
  {
   "cell_type": "code",
   "execution_count": 60,
   "id": "95f5bfff",
   "metadata": {},
   "outputs": [
    {
     "data": {
      "image/png": "[encoded data removed]",
      "text/plain": [
       "<Figure size 1440x432 with 2 Axes>"
      ]
     },
     "metadata": {
      "needs_background": "light"
     },
     "output_type": "display_data"
    }
   ],
   "source": [
    "plt.figure(figsize=(20,6))\n",
    "plt.subplot(1,2,1)\n",
    "p = sns.boxplot(data=df, x=\"Total Score\", y=\"instructor\")\n",
    "p.set_title(\"Comparsion of Total Scores Across Different Instructor\")\n",
    "plt.subplot(1,2,2)\n",
    "p = sns.histplot(df, x=\"Total Score\", hue=\"instructor\", element=\"step\", kde=True)\n",
    "p.set_title(\"Distribution of Total Scores\");"
   ]
  },
  {
   "cell_type": "markdown",
   "id": "ec8e738b",
   "metadata": {},
   "source": [
    "As shown in the histogram, the shapes of these distributions are fairly similar, which also indicate that the difference is likely due to different sample size.\n",
    "# <span style='color:blue '> Insight #8: The grading standards for the final project are the fairly consistent across the two instructors. Students can create successful projects no matter who the instructor is.</span>"
   ]
  },
  {
   "cell_type": "markdown",
   "id": "576736b8",
   "metadata": {},
   "source": [
    "[Jump Back to Table of Contents](#Top)"
   ]
  },
  {
   "cell_type": "markdown",
   "id": "cf2b5748",
   "metadata": {},
   "source": [
    "# Analysis <a class=\"anchor\" id=\"Analysis\"></a>"
   ]
  },
  {
   "cell_type": "markdown",
   "id": "005b2878",
   "metadata": {},
   "source": [
    "For this section, I will be exploring the question of what makes a project good in a more statistical scope. Since no strong linear correlations were found bewteen total scores and the numerical variables, I decided to fit my data into a decision tree model for further analysis.I will create a new column to label projects that scored above the 75 percentile as 1 (indicating a strong project) and 0 for all other projects. I'll also rearrange the features and create a new dataframe to store all the relevant features that are ready to fit into the model."
   ]
  },
  {
   "cell_type": "markdown",
   "id": "a974a56a",
   "metadata": {},
   "source": [
    "### Preparing the dataframe <a class=\"anchor\" id=\"Preparing_the_dataframe\"></a>"
   ]
  },
  {
   "cell_type": "code",
   "execution_count": 61,
   "id": "cbe64723",
   "metadata": {},
   "outputs": [],
   "source": [
    "# labeling and rearranging the dataframe\n",
    "df['well_performing'] = np.where(df['Total Score']>98.5, 1, 0)\n",
    "feature_cols = ['programming_background', \n",
    "               'lines_code', \n",
    "               'num_imports', \n",
    "               'lines_comments', \n",
    "               'num_functions', \n",
    "               'num_classes', \n",
    "               'num_tests', \n",
    "               'num_logic', \n",
    "               'num_loops', \n",
    "               'Describe and implement best practices in Python, keeping in mind that programming is done by and for humans',\n",
    "               'Program at an introductory level in the Python programming language',\n",
    "               'Solve basic problems using programmatic solutions',\n",
    "               'Write and debug small Python programs',\n",
    "               'Read basic Python programs, recognizing the structures they use and be able to explain how they work',\n",
    "               'Execute Python programs on your local computer, using notebooks and the command line', 'well_performing']\n",
    "df_model = df[feature_cols]"
   ]
  },
  {
   "cell_type": "code",
   "execution_count": 62,
   "id": "17db17f5",
   "metadata": {},
   "outputs": [],
   "source": [
    "# change programming_background to numerical\n",
    "def convert_background(row):\n",
    "    background = row[\"programming_background\"]\n",
    "    if background == 'None':\n",
    "        return 0\n",
    "    elif background == 'Other':\n",
    "        return 1\n",
    "    elif background == 'Java/C/C++/Javascript':\n",
    "        return 2\n",
    "    elif background == 'Python+':\n",
    "        return 3\n",
    "    elif background == 'Python':\n",
    "        return 4\n",
    "    \n",
    "df_model = df_model.copy()\n",
    "df_model[\"programming_background\"] = df.apply (lambda row: convert_background(row), axis=1)"
   ]
  },
  {
   "cell_type": "code",
   "execution_count": 63,
   "id": "9c9a4d3d",
   "metadata": {},
   "outputs": [],
   "source": [
    "# assigning the features\n",
    "X = df_model[feature_cols[:-1]]\n",
    "y = df_model[\"well_performing\"]\n"
   ]
  },
  {
   "cell_type": "code",
   "execution_count": 64,
   "id": "db749c0c",
   "metadata": {},
   "outputs": [],
   "source": [
    "# train test split\n",
    "X_train, X_test, y_train, y_test = train_test_split(X, y, test_size=0.3, random_state=1)"
   ]
  },
  {
   "cell_type": "markdown",
   "id": "873c4f21",
   "metadata": {},
   "source": [
    "[Jump Back to Table of Contents](#Top)"
   ]
  },
  {
   "cell_type": "markdown",
   "id": "6900c2a2",
   "metadata": {},
   "source": [
    "### Decision tree <a class=\"anchor\" id=\"Decision_tree\"></a>"
   ]
  },
  {
   "cell_type": "markdown",
   "id": "f6b5d629",
   "metadata": {},
   "source": [
    "The decision tree model would present statistical classifications that weren't discovered in EDA."
   ]
  },
  {
   "cell_type": "code",
   "execution_count": 65,
   "id": "49f73781",
   "metadata": {},
   "outputs": [],
   "source": [
    "# fitting the decision tree model\n",
    "model_1 = DecisionTreeClassifier(max_depth=3)\n",
    "model_1 = model_1.fit(X_train, y_train)\n",
    "y_pred = model_1.predict(X_test)"
   ]
  },
  {
   "cell_type": "code",
   "execution_count": 66,
   "id": "50ea8d39",
   "metadata": {},
   "outputs": [
    {
     "data": {
      "text/plain": [
       "0.7073170731707317"
      ]
     },
     "execution_count": 66,
     "metadata": {},
     "output_type": "execute_result"
    }
   ],
   "source": [
    "model_1.score(X_test, y_test)"
   ]
  },
  {
   "cell_type": "code",
   "execution_count": 67,
   "id": "2b5a9a4f",
   "metadata": {
    "scrolled": false
   },
   "outputs": [
    {
     "data": {
      "image/png": "[encoded data removed]",
      "text/plain": [
       "<Figure size 1800x720 with 1 Axes>"
      ]
     },
     "metadata": {
      "needs_background": "light"
     },
     "output_type": "display_data"
    }
   ],
   "source": [
    "# visualizing the decision tree\n",
    "plt.figure(figsize=(25,10))\n",
    "tree.plot_tree(model_1,\n",
    "               feature_names = feature_cols[:-1],\n",
    "               class_names = [\"Average-Performing\", \"Well-Performing\"],\n",
    "               filled = True);"
   ]
  },
  {
   "cell_type": "markdown",
   "id": "5f25a2fe",
   "metadata": {},
   "source": [
    "From the visualization, we can see that lines of comments, lines of code, number of imports, number of if/else statements and number of for/while loops all have some degrees of impact on a project's performance. Students could use the visualization above as a reference when creating their projects."
   ]
  },
  {
   "cell_type": "markdown",
   "id": "cecf26fb",
   "metadata": {},
   "source": [
    "[Jump Back to Table of Contents](#Top)"
   ]
  },
  {
   "cell_type": "markdown",
   "id": "6f53d898",
   "metadata": {},
   "source": [
    "### Random forest <a class=\"anchor\" id=\"Random_forest\"></a>"
   ]
  },
  {
   "cell_type": "markdown",
   "id": "767bb0f0",
   "metadata": {},
   "source": [
    "Out of curiosity, I would like to see how much the accuracy of the prediction would increase if I use a random forest model."
   ]
  },
  {
   "cell_type": "code",
   "execution_count": 68,
   "id": "8f041345",
   "metadata": {},
   "outputs": [],
   "source": [
    "# fitting the random forest model\n",
    "model_2=RandomForestClassifier(n_estimators=100)\n",
    "model_2 = model_2.fit(X_train,y_train)\n",
    "y_pred=model_2.predict(X_test)"
   ]
  },
  {
   "cell_type": "code",
   "execution_count": 69,
   "id": "a1626c0b",
   "metadata": {},
   "outputs": [
    {
     "data": {
      "text/plain": [
       "0.7317073170731707"
      ]
     },
     "execution_count": 69,
     "metadata": {},
     "output_type": "execute_result"
    }
   ],
   "source": [
    "model_2.score(X_test,y_test)"
   ]
  },
  {
   "cell_type": "markdown",
   "id": "0cec2ef6",
   "metadata": {},
   "source": [
    "The accuracy did increse by three percent, but its practical impact is negligible."
   ]
  },
  {
   "cell_type": "markdown",
   "id": "13b93104",
   "metadata": {},
   "source": [
    "[Jump Back to Table of Contents](#Top)"
   ]
  },
  {
   "cell_type": "markdown",
   "id": "99ce2515",
   "metadata": {},
   "source": [
    "# Conclusion <a class=\"anchor\" id=\"Conclusion\"></a>"
   ]
  },
  {
   "cell_type": "markdown",
   "id": "aa31fb80",
   "metadata": {},
   "source": [
    "Overall, for this COGS199 research project, I quantitatively analyzed COGS 18 final projects from more than 100 students. Throughout this analysis, I looked into correlations/classifications of these projects' total scores and related numerical/categorical variables extracted from them. The research question were answered through the form of insights, and these insights can inspire to data-driven decision that help and guide future students to be more successful in COGS18. Here is the full list of the insights:\n",
    "1. Students with a programming background before entering the class do not have an advantage on the final project. Students with no background can in fact score higher, therefore should be encouraged to complete the final project.\n",
    "\n",
    "2. Students who already have programming skills before entering this class are not guaranteed to perform better on the final project. Among the skills, knowing how to \"Program at an introductory level in the Python programming language\", \"Write and debug small Python programs\", and \"Read basic Python programs, recognizing the structures they use and be able to explain how they work\" can be helpful, and students can definitely acquire these skills throughout the class.\n",
    "\n",
    "3. It is a misconception that longer projects would receive higher scores. Students should aim for better quality rather than longer length. A typical good project has approximately 50 to 140 lines of code.\n",
    "\n",
    "4. Documenting code is part of writing good code. In the scope of this course, projects with high scores tend to have more code documentation. A typical well-performing project has around 60 to 130 lines of comments, on par with lines of code.\n",
    "\n",
    "5. It is optional for students to import external packages in their final projects. Some of the most popular packages students tend to import are random, time, pandas, numpy, IPython.display, string, matplotlib.pyplot, math, and datetime.\n",
    "\n",
    "6. All final projects should have some functions to increase code clarity and readability. It is optional to include classes. Students should be encouraged to use if/else statements and loops in their projects. A typical well-performing project has around 5 to 9 functions, 1 to 9 if/else statements, and 1 to 4 for/while loops.\n",
    "\n",
    "7. Students should have at least three test cases in their projects. It is part of the requirement and could directly affect the total score.\n",
    "\n",
    "8. The grading standards for the final project are the fairly consistent across the two instructors. Students can create successful projects no matter who the instructor is."
   ]
  },
  {
   "cell_type": "markdown",
   "id": "64d75162",
   "metadata": {},
   "source": [
    "[Jump Back to Table of Contents](#Top)"
   ]
  }
 ],
 "metadata": {
  "kernelspec": {
   "display_name": "Python 3.10.8 64-bit",
   "language": "python",
   "name": "python3"
  },
  "language_info": {
   "codemirror_mode": {
    "name": "ipython",
    "version": 3
   },
   "file_extension": ".py",
   "mimetype": "text/x-python",
   "name": "python",
   "nbconvert_exporter": "python",
   "pygments_lexer": "ipython3",
   "version": "3.10.8"
  },
  "vscode": {
   "interpreter": {
    "hash": "aee8b7b246df8f9039afb4144a1f6fd8d2ca17a180786b69acc140d282b71a49"
   }
  }
 },
 "nbformat": 4,
 "nbformat_minor": 5
}
